{
 "cells": [
  {
   "cell_type": "markdown",
   "metadata": {
    "id": "y1lfMkZXCUrg"
   },
   "source": [
    "The necessary python libraries are imported here-\n",
    "\n",
    "- **numpy** is used to perform basic operations.\n",
    "\n",
    "- **pyplot** from matplotlib is used to visualize the results.\n",
    "\n",
    "- **pandas** is used to read the dataset.\n",
    "\n",
    "- **tensorflow** is a deep learning framework\n",
    "\n",
    "- **keras** is a deep learning framework"
   ]
  },
  {
   "cell_type": "code",
   "execution_count": null,
   "metadata": {
    "id": "MjSwvCkIvvuk"
   },
   "outputs": [],
   "source": [
    "# tensorflow is developed by google\n",
    "# tensorflow langauge is always based on tensors\n",
    "# list === array  === tensors (vector represenation)\n",
    "# writing only tensorflow code is littile tricky\n",
    "# so we use keras as backend of tensorflow"
   ]
  },
  {
   "cell_type": "code",
   "execution_count": 2,
   "metadata": {
    "id": "W-3_tkK0CmVD"
   },
   "outputs": [],
   "source": [
    "import tensorflow as tf\n",
    "from tensorflow import keras\n",
    "import numpy as np\n",
    "import pandas as pd\n",
    "import matplotlib.pyplot as plt"
   ]
  },
  {
   "cell_type": "code",
   "execution_count": 3,
   "metadata": {
    "colab": {
     "base_uri": "https://localhost:8080/",
     "height": 0
    },
    "id": "6eXyPPRKC4FM",
    "outputId": "facc9b40-c2b7-4c99-ce35-6c4f15974140"
   },
   "outputs": [
    {
     "name": "stdout",
     "output_type": "stream",
     "text": [
      "2.15.0\n"
     ]
    }
   ],
   "source": [
    "print(tf.__version__)"
   ]
  },
  {
   "cell_type": "markdown",
   "metadata": {
    "id": "DXLipvLhC-4F"
   },
   "source": [
    "**Here we are loading the fashion_mnist dataset from keras**"
   ]
  },
  {
   "cell_type": "code",
   "execution_count": null,
   "metadata": {
    "colab": {
     "base_uri": "https://localhost:8080/"
    },
    "id": "dJZp8XIdwqki",
    "outputId": "40fcdd9a-53fb-466f-bfc7-88883e7c4b1b"
   },
   "outputs": [
    {
     "data": {
      "text/plain": [
       "['__builtins__',\n",
       " '__cached__',\n",
       " '__doc__',\n",
       " '__file__',\n",
       " '__loader__',\n",
       " '__name__',\n",
       " '__package__',\n",
       " '__path__',\n",
       " '__spec__',\n",
       " 'boston_housing',\n",
       " 'cifar10',\n",
       " 'cifar100',\n",
       " 'fashion_mnist',\n",
       " 'imdb',\n",
       " 'mnist',\n",
       " 'reuters']"
      ]
     },
     "execution_count": 5,
     "metadata": {},
     "output_type": "execute_result"
    }
   ],
   "source": [
    "dir(keras.datasets)"
   ]
  },
  {
   "cell_type": "code",
   "execution_count": 4,
   "metadata": {
    "id": "R59SDTAiC72Z"
   },
   "outputs": [],
   "source": [
    "mnist = keras.datasets.fashion_mnist\n",
    "#The dataset is downloaded in TFModuleWrapper."
   ]
  },
  {
   "cell_type": "code",
   "execution_count": 5,
   "metadata": {
    "colab": {
     "base_uri": "https://localhost:8080/",
     "height": 0
    },
    "id": "snIduNCQDFoS",
    "outputId": "2a3220be-1709-4e58-bbd4-0d5eccf10536"
   },
   "outputs": [
    {
     "data": {
      "text/plain": [
       "<module 'keras.api._v2.keras.datasets.fashion_mnist' from '/usr/local/lib/python3.10/dist-packages/keras/api/_v2/keras/datasets/fashion_mnist/__init__.py'>"
      ]
     },
     "execution_count": 5,
     "metadata": {},
     "output_type": "execute_result"
    }
   ],
   "source": [
    "mnist"
   ]
  },
  {
   "cell_type": "code",
   "execution_count": null,
   "metadata": {
    "colab": {
     "base_uri": "https://localhost:8080/"
    },
    "id": "CFbCfHPbDH7A",
    "outputId": "a0322544-6999-4f48-dfa2-c1135def308f"
   },
   "outputs": [
    {
     "data": {
      "text/plain": [
       "module"
      ]
     },
     "execution_count": 6,
     "metadata": {},
     "output_type": "execute_result"
    }
   ],
   "source": [
    "type(mnist)"
   ]
  },
  {
   "cell_type": "markdown",
   "metadata": {
    "id": "S-GBpg52DUUN"
   },
   "source": [
    "- Now we load the data into real variables using load_data().\n",
    "\n",
    "- It return 2 tuples. The first tupes has the training data and the second tuple has the test data."
   ]
  },
  {
   "cell_type": "code",
   "execution_count": 6,
   "metadata": {
    "colab": {
     "base_uri": "https://localhost:8080/",
     "height": 0
    },
    "id": "KC1TQ5pnDLNt",
    "outputId": "46dcaae7-bc6d-40af-d35b-25a6301c43bd"
   },
   "outputs": [
    {
     "name": "stdout",
     "output_type": "stream",
     "text": [
      "Downloading data from https://storage.googleapis.com/tensorflow/tf-keras-datasets/train-labels-idx1-ubyte.gz\n",
      "29515/29515 [==============================] - 0s 0us/step\n",
      "Downloading data from https://storage.googleapis.com/tensorflow/tf-keras-datasets/train-images-idx3-ubyte.gz\n",
      "26421880/26421880 [==============================] - 1s 0us/step\n",
      "Downloading data from https://storage.googleapis.com/tensorflow/tf-keras-datasets/t10k-labels-idx1-ubyte.gz\n",
      "5148/5148 [==============================] - 0s 0us/step\n",
      "Downloading data from https://storage.googleapis.com/tensorflow/tf-keras-datasets/t10k-images-idx3-ubyte.gz\n",
      "4422102/4422102 [==============================] - 0s 0us/step\n"
     ]
    }
   ],
   "source": [
    "(X_train, y_train), (X_test, y_test) = mnist.load_data()"
   ]
  },
  {
   "cell_type": "markdown",
   "metadata": {
    "id": "98M4HIYkxS3R"
   },
   "source": [
    "The data consist of images which means it has pixel values"
   ]
  },
  {
   "cell_type": "code",
   "execution_count": 55,
   "metadata": {
    "colab": {
     "base_uri": "https://localhost:8080/"
    },
    "id": "9yc-fgA26L4r",
    "outputId": "fff98763-8118-43d2-b46f-9029ec1c946d"
   },
   "outputs": [
    {
     "data": {
      "text/plain": [
       "((array([[[0, 0, 0, ..., 0, 0, 0],\n",
       "          [0, 0, 0, ..., 0, 0, 0],\n",
       "          [0, 0, 0, ..., 0, 0, 0],\n",
       "          ...,\n",
       "          [0, 0, 0, ..., 0, 0, 0],\n",
       "          [0, 0, 0, ..., 0, 0, 0],\n",
       "          [0, 0, 0, ..., 0, 0, 0]],\n",
       "  \n",
       "         [[0, 0, 0, ..., 0, 0, 0],\n",
       "          [0, 0, 0, ..., 0, 0, 0],\n",
       "          [0, 0, 0, ..., 0, 0, 0],\n",
       "          ...,\n",
       "          [0, 0, 0, ..., 0, 0, 0],\n",
       "          [0, 0, 0, ..., 0, 0, 0],\n",
       "          [0, 0, 0, ..., 0, 0, 0]],\n",
       "  \n",
       "         [[0, 0, 0, ..., 0, 0, 0],\n",
       "          [0, 0, 0, ..., 0, 0, 0],\n",
       "          [0, 0, 0, ..., 0, 0, 0],\n",
       "          ...,\n",
       "          [0, 0, 0, ..., 0, 0, 0],\n",
       "          [0, 0, 0, ..., 0, 0, 0],\n",
       "          [0, 0, 0, ..., 0, 0, 0]],\n",
       "  \n",
       "         ...,\n",
       "  \n",
       "         [[0, 0, 0, ..., 0, 0, 0],\n",
       "          [0, 0, 0, ..., 0, 0, 0],\n",
       "          [0, 0, 0, ..., 0, 0, 0],\n",
       "          ...,\n",
       "          [0, 0, 0, ..., 0, 0, 0],\n",
       "          [0, 0, 0, ..., 0, 0, 0],\n",
       "          [0, 0, 0, ..., 0, 0, 0]],\n",
       "  \n",
       "         [[0, 0, 0, ..., 0, 0, 0],\n",
       "          [0, 0, 0, ..., 0, 0, 0],\n",
       "          [0, 0, 0, ..., 0, 0, 0],\n",
       "          ...,\n",
       "          [0, 0, 0, ..., 0, 0, 0],\n",
       "          [0, 0, 0, ..., 0, 0, 0],\n",
       "          [0, 0, 0, ..., 0, 0, 0]],\n",
       "  \n",
       "         [[0, 0, 0, ..., 0, 0, 0],\n",
       "          [0, 0, 0, ..., 0, 0, 0],\n",
       "          [0, 0, 0, ..., 0, 0, 0],\n",
       "          ...,\n",
       "          [0, 0, 0, ..., 0, 0, 0],\n",
       "          [0, 0, 0, ..., 0, 0, 0],\n",
       "          [0, 0, 0, ..., 0, 0, 0]]], dtype=uint8),\n",
       "  array([9, 0, 0, ..., 3, 0, 5], dtype=uint8)),\n",
       " (array([[[0, 0, 0, ..., 0, 0, 0],\n",
       "          [0, 0, 0, ..., 0, 0, 0],\n",
       "          [0, 0, 0, ..., 0, 0, 0],\n",
       "          ...,\n",
       "          [0, 0, 0, ..., 0, 0, 0],\n",
       "          [0, 0, 0, ..., 0, 0, 0],\n",
       "          [0, 0, 0, ..., 0, 0, 0]],\n",
       "  \n",
       "         [[0, 0, 0, ..., 0, 0, 0],\n",
       "          [0, 0, 0, ..., 0, 0, 0],\n",
       "          [0, 0, 0, ..., 0, 0, 0],\n",
       "          ...,\n",
       "          [0, 0, 0, ..., 0, 0, 0],\n",
       "          [0, 0, 0, ..., 0, 0, 0],\n",
       "          [0, 0, 0, ..., 0, 0, 0]],\n",
       "  \n",
       "         [[0, 0, 0, ..., 0, 0, 0],\n",
       "          [0, 0, 0, ..., 0, 0, 0],\n",
       "          [0, 0, 0, ..., 0, 0, 0],\n",
       "          ...,\n",
       "          [0, 0, 0, ..., 0, 0, 0],\n",
       "          [0, 0, 0, ..., 0, 0, 0],\n",
       "          [0, 0, 0, ..., 0, 0, 0]],\n",
       "  \n",
       "         ...,\n",
       "  \n",
       "         [[0, 0, 0, ..., 0, 0, 0],\n",
       "          [0, 0, 0, ..., 0, 0, 0],\n",
       "          [0, 0, 0, ..., 0, 0, 0],\n",
       "          ...,\n",
       "          [0, 0, 0, ..., 0, 0, 0],\n",
       "          [0, 0, 0, ..., 0, 0, 0],\n",
       "          [0, 0, 0, ..., 0, 0, 0]],\n",
       "  \n",
       "         [[0, 0, 0, ..., 0, 0, 0],\n",
       "          [0, 0, 0, ..., 0, 0, 0],\n",
       "          [0, 0, 0, ..., 0, 0, 0],\n",
       "          ...,\n",
       "          [0, 0, 0, ..., 0, 0, 0],\n",
       "          [0, 0, 0, ..., 0, 0, 0],\n",
       "          [0, 0, 0, ..., 0, 0, 0]],\n",
       "  \n",
       "         [[0, 0, 0, ..., 0, 0, 0],\n",
       "          [0, 0, 0, ..., 0, 0, 0],\n",
       "          [0, 0, 0, ..., 0, 0, 0],\n",
       "          ...,\n",
       "          [0, 0, 0, ..., 0, 0, 0],\n",
       "          [0, 0, 0, ..., 0, 0, 0],\n",
       "          [0, 0, 0, ..., 0, 0, 0]]], dtype=uint8),\n",
       "  array([9, 2, 1, ..., 8, 1, 5], dtype=uint8)))"
      ]
     },
     "execution_count": 55,
     "metadata": {},
     "output_type": "execute_result"
    }
   ],
   "source": []
  },
  {
   "cell_type": "markdown",
   "metadata": {
    "id": "-wFJs-s2DlxE"
   },
   "source": [
    "By using shape we can see that it has 60,000 images for training and each image is of size 28x28 in X_train and a corresponding label for each image in y_train."
   ]
  },
  {
   "cell_type": "code",
   "execution_count": 7,
   "metadata": {
    "colab": {
     "base_uri": "https://localhost:8080/",
     "height": 0
    },
    "id": "oA-QV37JDa_f",
    "outputId": "cd4a4c68-f446-4420-c5af-ab1c02d1a561"
   },
   "outputs": [
    {
     "data": {
      "text/plain": [
       "((60000, 28, 28), (60000,))"
      ]
     },
     "execution_count": 7,
     "metadata": {},
     "output_type": "execute_result"
    }
   ],
   "source": [
    "X_train.shape, y_train.shape\n",
    "# 60k Images\n",
    "# each image shape  is 28x28=784 pixel values"
   ]
  },
  {
   "cell_type": "code",
   "execution_count": 8,
   "metadata": {
    "colab": {
     "base_uri": "https://localhost:8080/",
     "height": 0
    },
    "id": "2zXrKLPbEplF",
    "outputId": "c49dab67-a23e-4694-e503-24606f870af5"
   },
   "outputs": [
    {
     "data": {
      "text/plain": [
       "28"
      ]
     },
     "execution_count": 8,
     "metadata": {},
     "output_type": "execute_result"
    }
   ],
   "source": [
    "len(X_train[1]) # each list has 28 values"
   ]
  },
  {
   "cell_type": "code",
   "execution_count": 9,
   "metadata": {
    "colab": {
     "base_uri": "https://localhost:8080/",
     "height": 0
    },
    "id": "9Jobcv2Y2S9A",
    "outputId": "490db611-d9c9-4c73-adc5-146833d5fb4c"
   },
   "outputs": [
    {
     "data": {
      "text/plain": [
       "28"
      ]
     },
     "execution_count": 9,
     "metadata": {},
     "output_type": "execute_result"
    }
   ],
   "source": [
    "len(X_train[0])\n",
    "\n",
    "# 28 lists are there\n",
    "# in each list 28 values are there"
   ]
  },
  {
   "cell_type": "code",
   "execution_count": 10,
   "metadata": {
    "colab": {
     "base_uri": "https://localhost:8080/",
     "height": 0
    },
    "id": "wLmv-4osxjnd",
    "outputId": "57dfb294-f148-4458-a967-790ea866a417"
   },
   "outputs": [
    {
     "data": {
      "text/plain": [
       "(28, 28)"
      ]
     },
     "execution_count": 10,
     "metadata": {},
     "output_type": "execute_result"
    }
   ],
   "source": [
    "len(X_train[1][0]),len(X_train[1])"
   ]
  },
  {
   "cell_type": "code",
   "execution_count": 11,
   "metadata": {
    "colab": {
     "base_uri": "https://localhost:8080/",
     "height": 69
    },
    "id": "0ocLE0cixcOS",
    "outputId": "fd2a4f23-e7be-44ad-92a4-bae8c89c5194"
   },
   "outputs": [
    {
     "data": {
      "text/html": [
       "<style>\n",
       "      .ndarray_repr .ndarray_raw_data {\n",
       "        display: none;\n",
       "      }\n",
       "      .ndarray_repr.show_array .ndarray_raw_data {\n",
       "        display: block;\n",
       "      }\n",
       "      .ndarray_repr.show_array .ndarray_image_preview {\n",
       "        display: none;\n",
       "      }\n",
       "      </style>\n",
       "      <div id=\"id-bb98187b-32c9-4d5b-8e3e-436784df8457\" class=\"ndarray_repr\"><pre>ndarray (28, 28) <button style=\"padding: 0 2px;\">show data</button></pre><img src=\"data:image/png;base64,iVBORw0KGgoAAAANSUhEUgAAABwAAAAcCAAAAABXZoBIAAAB90lEQVR4nF2QvWvTURSGn3PuTUwaSVMtlLZDBT+g0CragnQQwcnFQRAcdHNy0KngXyAIDg5O4qKuDrrp4ChFOthBsNrSxZZ0MMXYD5tffvfe45CkX2d9eF7e9wgAYsD487cL7Xzi5srTJvsnwMUnyz/WGmZmPxfT+qvJPQDVN+d1ezdPvn8nGZTKxc939+CnsY3kg6C5ooDY8PVF8ABTYw3vyiN9mvsohbC1Foj3Zrvm7MNGcvFFfW1kXfPi8UsPGr7qT4EC3ArOSuFlPvXhcnlocPNZ9KV/I+e6sRdW3TGqfNwZn313w3+dCpWYfs0s4YHJ30FdeYOJbPix5DJDfTSl1pXXeOBReTuWW2H65InCUN4q1m4P7PZLcboTOzd0plpZjl9Sis5L1K2litP6+97OgbP3r672NwsOEG31f7sDdAvxZz67ZsWKS4ikUrs01/mrAkgR23LJujmOJk560HJW/voMExCyApuo9SDKbtuCExNRbXuJB2IxUjRTMRVRS5qwfQiMijMRAM3FHTaJFBERJBWCFY6YLRc0mUvmfaR20AQSCKhgYqHcMX0PKlgHqoU+DnzIAAcmOEw0Hiok0BYhSVQwie5IIdRQFaTjH55SJ2RZ3s6ydo65I4VqFT+oWoTgVvtOo2kPirHwvVlAt01CymvzJID/CjnVF438ZwEAAAAASUVORK5CYII=\" class=\"ndarray_image_preview\" /><pre class=\"ndarray_raw_data\">array([[  0,   0,   0,   0,   0,   1,   0,   0,   0,   0,  41, 188, 103,\n",
       "         54,  48,  43,  87, 168, 133,  16,   0,   0,   0,   0,   0,   0,\n",
       "          0,   0],\n",
       "       [  0,   0,   0,   1,   0,   0,   0,  49, 136, 219, 216, 228, 236,\n",
       "        255, 255, 255, 255, 217, 215, 254, 231, 160,  45,   0,   0,   0,\n",
       "          0,   0],\n",
       "       [  0,   0,   0,   0,   0,  14, 176, 222, 224, 212, 203, 198, 196,\n",
       "        200, 215, 204, 202, 201, 201, 201, 209, 218, 224, 164,   0,   0,\n",
       "          0,   0],\n",
       "       [  0,   0,   0,   0,   0, 188, 219, 200, 198, 202, 198, 199, 199,\n",
       "        201, 196, 198, 198, 200, 200, 200, 200, 201, 200, 225,  41,   0,\n",
       "          0,   0],\n",
       "       [  0,   0,   0,   0,  51, 219, 199, 203, 203, 212, 238, 248, 250,\n",
       "        245, 249, 246, 247, 252, 248, 235, 207, 203, 203, 222, 140,   0,\n",
       "          0,   0],\n",
       "       [  0,   0,   0,   0, 116, 226, 206, 204, 207, 204, 101,  75,  47,\n",
       "         73,  48,  50,  45,  51,  63, 113, 222, 202, 206, 220, 224,   0,\n",
       "          0,   0],\n",
       "       [  0,   0,   0,   0, 200, 222, 209, 203, 215, 200,   0,  70,  98,\n",
       "          0, 103,  59,  68,  71,  49,   0, 219, 206, 214, 210, 250,  38,\n",
       "          0,   0],\n",
       "       [  0,   0,   0,   0, 247, 218, 212, 210, 215, 214,   0, 254, 243,\n",
       "        139, 255, 174, 251, 255, 205,   0, 215, 217, 214, 208, 220,  95,\n",
       "          0,   0],\n",
       "       [  0,   0,   0,  45, 226, 214, 214, 215, 224, 205,   0,  42,  35,\n",
       "         60,  16,  17,  12,  13,  70,   0, 189, 216, 212, 206, 212, 156,\n",
       "          0,   0],\n",
       "       [  0,   0,   0, 164, 235, 214, 211, 220, 216, 201,  52,  71,  89,\n",
       "         94,  83,  78,  70,  76,  92,  87, 206, 207, 222, 213, 219, 208,\n",
       "          0,   0],\n",
       "       [  0,   0,   0, 106, 187, 223, 237, 248, 211, 198, 252, 250, 248,\n",
       "        245, 248, 252, 253, 250, 252, 239, 201, 212, 225, 215, 193, 113,\n",
       "          0,   0],\n",
       "       [  0,   0,   0,   0,   0,  17,  54, 159, 222, 193, 208, 192, 197,\n",
       "        200, 200, 200, 200, 201, 203, 195, 210, 165,   0,   0,   0,   0,\n",
       "          0,   0],\n",
       "       [  0,   0,   0,   0,   0,   0,   0,  47, 225, 192, 214, 203, 206,\n",
       "        204, 204, 205, 206, 204, 212, 197, 218, 107,   0,   0,   0,   0,\n",
       "          0,   0],\n",
       "       [  0,   0,   0,   0,   1,   6,   0,  46, 212, 195, 212, 202, 206,\n",
       "        205, 204, 205, 206, 204, 212, 200, 218,  91,   0,   3,   1,   0,\n",
       "          0,   0],\n",
       "       [  0,   0,   0,   0,   0,   1,   0,  11, 197, 199, 205, 202, 205,\n",
       "        206, 204, 205, 207, 204, 205, 205, 218,  77,   0,   5,   0,   0,\n",
       "          0,   0],\n",
       "       [  0,   0,   0,   0,   0,   3,   0,   2, 191, 198, 201, 205, 206,\n",
       "        205, 205, 206, 209, 206, 199, 209, 219,  74,   0,   5,   0,   0,\n",
       "          0,   0],\n",
       "       [  0,   0,   0,   0,   0,   2,   0,   0, 188, 197, 200, 207, 207,\n",
       "        204, 207, 207, 210, 208, 198, 207, 221,  72,   0,   4,   0,   0,\n",
       "          0,   0],\n",
       "       [  0,   0,   0,   0,   0,   2,   0,   0, 215, 198, 203, 206, 208,\n",
       "        205, 207, 207, 210, 208, 200, 202, 222,  75,   0,   4,   0,   0,\n",
       "          0,   0],\n",
       "       [  0,   0,   0,   0,   0,   1,   0,   0, 212, 198, 209, 206, 209,\n",
       "        206, 208, 207, 211, 206, 205, 198, 221,  80,   0,   3,   0,   0,\n",
       "          0,   0],\n",
       "       [  0,   0,   0,   0,   0,   1,   0,   0, 204, 201, 205, 208, 207,\n",
       "        205, 211, 205, 210, 210, 209, 195, 221,  96,   0,   3,   0,   0,\n",
       "          0,   0],\n",
       "       [  0,   0,   0,   0,   0,   1,   0,   0, 202, 201, 205, 209, 207,\n",
       "        205, 213, 206, 210, 209, 210, 194, 217, 105,   0,   2,   0,   0,\n",
       "          0,   0],\n",
       "       [  0,   0,   0,   0,   0,   1,   0,   0, 204, 204, 205, 208, 207,\n",
       "        205, 215, 207, 210, 208, 211, 193, 213, 115,   0,   2,   0,   0,\n",
       "          0,   0],\n",
       "       [  0,   0,   0,   0,   0,   0,   0,   0, 204, 207, 207, 208, 206,\n",
       "        206, 215, 210, 210, 207, 212, 195, 210, 118,   0,   2,   0,   0,\n",
       "          0,   0],\n",
       "       [  0,   0,   0,   0,   0,   1,   0,   0, 198, 208, 208, 208, 204,\n",
       "        207, 212, 212, 210, 207, 211, 196, 207, 121,   0,   1,   0,   0,\n",
       "          0,   0],\n",
       "       [  0,   0,   0,   0,   0,   1,   0,   0, 198, 210, 207, 208, 206,\n",
       "        209, 213, 212, 211, 207, 210, 197, 207, 124,   0,   1,   0,   0,\n",
       "          0,   0],\n",
       "       [  0,   0,   0,   0,   0,   0,   0,   0, 172, 210, 203, 201, 199,\n",
       "        204, 207, 205, 204, 201, 205, 197, 206, 127,   0,   0,   0,   0,\n",
       "          0,   0],\n",
       "       [  0,   0,   0,   0,   0,   0,   0,   0, 188, 221, 214, 234, 236,\n",
       "        238, 244, 244, 244, 240, 243, 214, 224, 162,   0,   2,   0,   0,\n",
       "          0,   0],\n",
       "       [  0,   0,   0,   0,   0,   1,   0,   0, 139, 146, 130, 135, 135,\n",
       "        137, 125, 124, 125, 121, 119, 114, 130,  76,   0,   0,   0,   0,\n",
       "          0,   0]], dtype=uint8)</pre></div><script>\n",
       "      (() => {\n",
       "      const titles = ['show data', 'hide data'];\n",
       "      let index = 0\n",
       "      document.querySelector('#id-bb98187b-32c9-4d5b-8e3e-436784df8457 button').onclick = (e) => {\n",
       "        document.querySelector('#id-bb98187b-32c9-4d5b-8e3e-436784df8457').classList.toggle('show_array');\n",
       "        index = (++index) % 2;\n",
       "        document.querySelector('#id-bb98187b-32c9-4d5b-8e3e-436784df8457 button').textContent = titles[index];\n",
       "        e.preventDefault();\n",
       "        e.stopPropagation();\n",
       "      }\n",
       "      })();\n",
       "    </script>"
      ],
      "text/plain": [
       "array([[  0,   0,   0,   0,   0,   1,   0,   0,   0,   0,  41, 188, 103,\n",
       "         54,  48,  43,  87, 168, 133,  16,   0,   0,   0,   0,   0,   0,\n",
       "          0,   0],\n",
       "       [  0,   0,   0,   1,   0,   0,   0,  49, 136, 219, 216, 228, 236,\n",
       "        255, 255, 255, 255, 217, 215, 254, 231, 160,  45,   0,   0,   0,\n",
       "          0,   0],\n",
       "       [  0,   0,   0,   0,   0,  14, 176, 222, 224, 212, 203, 198, 196,\n",
       "        200, 215, 204, 202, 201, 201, 201, 209, 218, 224, 164,   0,   0,\n",
       "          0,   0],\n",
       "       [  0,   0,   0,   0,   0, 188, 219, 200, 198, 202, 198, 199, 199,\n",
       "        201, 196, 198, 198, 200, 200, 200, 200, 201, 200, 225,  41,   0,\n",
       "          0,   0],\n",
       "       [  0,   0,   0,   0,  51, 219, 199, 203, 203, 212, 238, 248, 250,\n",
       "        245, 249, 246, 247, 252, 248, 235, 207, 203, 203, 222, 140,   0,\n",
       "          0,   0],\n",
       "       [  0,   0,   0,   0, 116, 226, 206, 204, 207, 204, 101,  75,  47,\n",
       "         73,  48,  50,  45,  51,  63, 113, 222, 202, 206, 220, 224,   0,\n",
       "          0,   0],\n",
       "       [  0,   0,   0,   0, 200, 222, 209, 203, 215, 200,   0,  70,  98,\n",
       "          0, 103,  59,  68,  71,  49,   0, 219, 206, 214, 210, 250,  38,\n",
       "          0,   0],\n",
       "       [  0,   0,   0,   0, 247, 218, 212, 210, 215, 214,   0, 254, 243,\n",
       "        139, 255, 174, 251, 255, 205,   0, 215, 217, 214, 208, 220,  95,\n",
       "          0,   0],\n",
       "       [  0,   0,   0,  45, 226, 214, 214, 215, 224, 205,   0,  42,  35,\n",
       "         60,  16,  17,  12,  13,  70,   0, 189, 216, 212, 206, 212, 156,\n",
       "          0,   0],\n",
       "       [  0,   0,   0, 164, 235, 214, 211, 220, 216, 201,  52,  71,  89,\n",
       "         94,  83,  78,  70,  76,  92,  87, 206, 207, 222, 213, 219, 208,\n",
       "          0,   0],\n",
       "       [  0,   0,   0, 106, 187, 223, 237, 248, 211, 198, 252, 250, 248,\n",
       "        245, 248, 252, 253, 250, 252, 239, 201, 212, 225, 215, 193, 113,\n",
       "          0,   0],\n",
       "       [  0,   0,   0,   0,   0,  17,  54, 159, 222, 193, 208, 192, 197,\n",
       "        200, 200, 200, 200, 201, 203, 195, 210, 165,   0,   0,   0,   0,\n",
       "          0,   0],\n",
       "       [  0,   0,   0,   0,   0,   0,   0,  47, 225, 192, 214, 203, 206,\n",
       "        204, 204, 205, 206, 204, 212, 197, 218, 107,   0,   0,   0,   0,\n",
       "          0,   0],\n",
       "       [  0,   0,   0,   0,   1,   6,   0,  46, 212, 195, 212, 202, 206,\n",
       "        205, 204, 205, 206, 204, 212, 200, 218,  91,   0,   3,   1,   0,\n",
       "          0,   0],\n",
       "       [  0,   0,   0,   0,   0,   1,   0,  11, 197, 199, 205, 202, 205,\n",
       "        206, 204, 205, 207, 204, 205, 205, 218,  77,   0,   5,   0,   0,\n",
       "          0,   0],\n",
       "       [  0,   0,   0,   0,   0,   3,   0,   2, 191, 198, 201, 205, 206,\n",
       "        205, 205, 206, 209, 206, 199, 209, 219,  74,   0,   5,   0,   0,\n",
       "          0,   0],\n",
       "       [  0,   0,   0,   0,   0,   2,   0,   0, 188, 197, 200, 207, 207,\n",
       "        204, 207, 207, 210, 208, 198, 207, 221,  72,   0,   4,   0,   0,\n",
       "          0,   0],\n",
       "       [  0,   0,   0,   0,   0,   2,   0,   0, 215, 198, 203, 206, 208,\n",
       "        205, 207, 207, 210, 208, 200, 202, 222,  75,   0,   4,   0,   0,\n",
       "          0,   0],\n",
       "       [  0,   0,   0,   0,   0,   1,   0,   0, 212, 198, 209, 206, 209,\n",
       "        206, 208, 207, 211, 206, 205, 198, 221,  80,   0,   3,   0,   0,\n",
       "          0,   0],\n",
       "       [  0,   0,   0,   0,   0,   1,   0,   0, 204, 201, 205, 208, 207,\n",
       "        205, 211, 205, 210, 210, 209, 195, 221,  96,   0,   3,   0,   0,\n",
       "          0,   0],\n",
       "       [  0,   0,   0,   0,   0,   1,   0,   0, 202, 201, 205, 209, 207,\n",
       "        205, 213, 206, 210, 209, 210, 194, 217, 105,   0,   2,   0,   0,\n",
       "          0,   0],\n",
       "       [  0,   0,   0,   0,   0,   1,   0,   0, 204, 204, 205, 208, 207,\n",
       "        205, 215, 207, 210, 208, 211, 193, 213, 115,   0,   2,   0,   0,\n",
       "          0,   0],\n",
       "       [  0,   0,   0,   0,   0,   0,   0,   0, 204, 207, 207, 208, 206,\n",
       "        206, 215, 210, 210, 207, 212, 195, 210, 118,   0,   2,   0,   0,\n",
       "          0,   0],\n",
       "       [  0,   0,   0,   0,   0,   1,   0,   0, 198, 208, 208, 208, 204,\n",
       "        207, 212, 212, 210, 207, 211, 196, 207, 121,   0,   1,   0,   0,\n",
       "          0,   0],\n",
       "       [  0,   0,   0,   0,   0,   1,   0,   0, 198, 210, 207, 208, 206,\n",
       "        209, 213, 212, 211, 207, 210, 197, 207, 124,   0,   1,   0,   0,\n",
       "          0,   0],\n",
       "       [  0,   0,   0,   0,   0,   0,   0,   0, 172, 210, 203, 201, 199,\n",
       "        204, 207, 205, 204, 201, 205, 197, 206, 127,   0,   0,   0,   0,\n",
       "          0,   0],\n",
       "       [  0,   0,   0,   0,   0,   0,   0,   0, 188, 221, 214, 234, 236,\n",
       "        238, 244, 244, 244, 240, 243, 214, 224, 162,   0,   2,   0,   0,\n",
       "          0,   0],\n",
       "       [  0,   0,   0,   0,   0,   1,   0,   0, 139, 146, 130, 135, 135,\n",
       "        137, 125, 124, 125, 121, 119, 114, 130,  76,   0,   0,   0,   0,\n",
       "          0,   0]], dtype=uint8)"
      ]
     },
     "execution_count": 11,
     "metadata": {},
     "output_type": "execute_result"
    }
   ],
   "source": [
    "X_train[0].shape    # First image\n",
    "X_train[1]          # second image\n",
    "\n",
    "# In image we have 784 pixels are there\n",
    "# 28x28\n",
    "# RGB picture : color picture\n",
    "# Gray        : not a color picture\n",
    "\n",
    "# RGB values ranges between  0 to 255\n",
    "# Rainbow :  7\n",
    "#  2^7: 256\n",
    "# 0= black\n",
    "# 255= white\n",
    "# Rainbow\n",
    "\n",
    "# subject: Digital Imgae processing  OpenCV"
   ]
  },
  {
   "cell_type": "markdown",
   "metadata": {
    "id": "CoAQ9bwgFIyd"
   },
   "source": [
    "np.max() gives the maximum value. Hence the maximum value in X_train is 255. We can even see the minimum value using np.min(X_train). The minimum value will be 0."
   ]
  },
  {
   "cell_type": "code",
   "execution_count": 12,
   "metadata": {
    "colab": {
     "base_uri": "https://localhost:8080/",
     "height": 0
    },
    "id": "c2kfNl3gyo7z",
    "outputId": "a2471fc7-250d-467c-b094-7ac9c3ace363"
   },
   "outputs": [
    {
     "data": {
      "text/plain": [
       "numpy.ndarray"
      ]
     },
     "execution_count": 12,
     "metadata": {},
     "output_type": "execute_result"
    }
   ],
   "source": [
    "type(X_train)\n",
    "\n",
    "# numpy array also is a form of creating an array\n",
    "# like list"
   ]
  },
  {
   "cell_type": "code",
   "execution_count": 13,
   "metadata": {
    "colab": {
     "base_uri": "https://localhost:8080/",
     "height": 0
    },
    "id": "etUMGu1ry2C8",
    "outputId": "111e779e-1997-48a9-eb0d-eeb9d2265f90"
   },
   "outputs": [
    {
     "data": {
      "text/plain": [
       "3"
      ]
     },
     "execution_count": 13,
     "metadata": {},
     "output_type": "execute_result"
    }
   ],
   "source": [
    "list1=[1,2,3]\n",
    "max(list1)"
   ]
  },
  {
   "cell_type": "code",
   "execution_count": 14,
   "metadata": {
    "id": "dLG8dGS-y82R"
   },
   "outputs": [],
   "source": [
    "#max(X_train)"
   ]
  },
  {
   "cell_type": "code",
   "execution_count": 15,
   "metadata": {
    "colab": {
     "base_uri": "https://localhost:8080/",
     "height": 0
    },
    "id": "ub9-2kczE_5Z",
    "outputId": "7e62a7a2-3bd9-4eb0-e0c6-e2ffa180facc"
   },
   "outputs": [
    {
     "data": {
      "text/plain": [
       "255"
      ]
     },
     "execution_count": 15,
     "metadata": {},
     "output_type": "execute_result"
    }
   ],
   "source": [
    "np.max(X_train)"
   ]
  },
  {
   "cell_type": "code",
   "execution_count": 16,
   "metadata": {
    "colab": {
     "base_uri": "https://localhost:8080/",
     "height": 0
    },
    "id": "xgz2XplZFOFk",
    "outputId": "1f41c442-e50e-4d80-9662-b45adfdf4ae9"
   },
   "outputs": [
    {
     "data": {
      "text/plain": [
       "0"
      ]
     },
     "execution_count": 16,
     "metadata": {},
     "output_type": "execute_result"
    }
   ],
   "source": [
    "np.min(X_train)"
   ]
  },
  {
   "cell_type": "markdown",
   "metadata": {
    "id": "_8rW9L9EFXsd"
   },
   "source": [
    "As we know the images are divided into 10 categories. The 10 categories are encoded using a numerical value as show below."
   ]
  },
  {
   "cell_type": "code",
   "execution_count": 17,
   "metadata": {
    "colab": {
     "base_uri": "https://localhost:8080/",
     "height": 0
    },
    "id": "8ZKtOruNFaGU",
    "outputId": "27723412-4a9a-48f9-bdbc-4501e94c03a2"
   },
   "outputs": [
    {
     "data": {
      "text/plain": [
       "array([9, 0, 0, ..., 3, 0, 5], dtype=uint8)"
      ]
     },
     "execution_count": 17,
     "metadata": {},
     "output_type": "execute_result"
    }
   ],
   "source": [
    "y_train\n",
    "\n",
    "# 0 to 9\n",
    "\n",
    "#X_train[0]    has output of  y_train[0]=9"
   ]
  },
  {
   "cell_type": "markdown",
   "metadata": {
    "id": "87eVPpqnFgIh"
   },
   "source": [
    "These are all the class name in their proper order. top is encoded as 0, trouser is encoded as 1 and so on."
   ]
  },
  {
   "cell_type": "markdown",
   "metadata": {
    "id": "5UjeA60JFj4r"
   },
   "source": [
    "class_names = ['top', 'trouser', 'pullover', 'dress', 'coat', 'sandal', 'shirt', 'sneaker', 'bag', 'ankle boot']"
   ]
  },
  {
   "cell_type": "code",
   "execution_count": 18,
   "metadata": {
    "id": "ScwK0Ju3HmFU"
   },
   "outputs": [],
   "source": [
    "class_names = ['top', 'trouser', 'pullover', 'dress', 'coat',\n",
    "               'sandal', 'shirt', 'sneaker', 'bag', 'ankle boot']"
   ]
  },
  {
   "cell_type": "markdown",
   "metadata": {
    "id": "FZTyQNEkFoI6"
   },
   "source": [
    "### Data exploration"
   ]
  },
  {
   "cell_type": "code",
   "execution_count": 19,
   "metadata": {
    "colab": {
     "base_uri": "https://localhost:8080/",
     "height": 0
    },
    "id": "dET0GhTPG0E7",
    "outputId": "ce5a0b19-a97a-4318-8df3-9023a9c3906d"
   },
   "outputs": [
    {
     "data": {
      "text/plain": [
       "(60000, 28, 28)"
      ]
     },
     "execution_count": 19,
     "metadata": {},
     "output_type": "execute_result"
    }
   ],
   "source": [
    "X_train.shape"
   ]
  },
  {
   "cell_type": "code",
   "execution_count": 20,
   "metadata": {
    "colab": {
     "base_uri": "https://localhost:8080/",
     "height": 0
    },
    "id": "EaROH5-JG20M",
    "outputId": "1f0b48e2-8174-475b-b0ed-3c4048832a74"
   },
   "outputs": [
    {
     "data": {
      "text/plain": [
       "(10000, 28, 28)"
      ]
     },
     "execution_count": 20,
     "metadata": {},
     "output_type": "execute_result"
    }
   ],
   "source": [
    "#The testing data set containes 10000 images of size 28x28.\n",
    "X_test.shape"
   ]
  },
  {
   "cell_type": "markdown",
   "metadata": {
    "id": "sikEa8wqHLYV"
   },
   "source": [
    "- Here we have plotted the second image of our training set i.e. the image at index 1.\n",
    "\n",
    "- The **plt.figure()** function in pyplot module of matplotlib library is used to create a new figure.\n",
    "\n",
    "- The **plt.imshow()** function in pyplot module of matplotlib library is used to display data as an image.\n",
    "\n",
    "- **plt.colorbar()** displays the colour bar besides the image. You can see that the values are between 0 and 255."
   ]
  },
  {
   "cell_type": "code",
   "execution_count": 21,
   "metadata": {
    "colab": {
     "base_uri": "https://localhost:8080/",
     "height": 69
    },
    "id": "uHA3oaUMLOHM",
    "outputId": "e491523c-119d-4558-e67f-8371da7d8838"
   },
   "outputs": [
    {
     "data": {
      "text/html": [
       "<style>\n",
       "      .ndarray_repr .ndarray_raw_data {\n",
       "        display: none;\n",
       "      }\n",
       "      .ndarray_repr.show_array .ndarray_raw_data {\n",
       "        display: block;\n",
       "      }\n",
       "      .ndarray_repr.show_array .ndarray_image_preview {\n",
       "        display: none;\n",
       "      }\n",
       "      </style>\n",
       "      <div id=\"id-c0567e95-9c56-4550-8ee3-8ae14f123832\" class=\"ndarray_repr\"><pre>ndarray (28, 28) <button style=\"padding: 0 2px;\">show data</button></pre><img src=\"data:image/png;base64,iVBORw0KGgoAAAANSUhEUgAAABwAAAAcCAAAAABXZoBIAAACBUlEQVR4nLXSz0tUURQH8O+597373rx545g6NmNJY6TlJgozEsKFZGCrkDBoVdGmdf9BiwJ3bVr1PwhBUbQfJQcKjWZRTsjo0KDpDPV+eN+997WK0Z2bvtsPfM+Bc4D/HwJycwBZAEAE6zAyfe5RFMQfFYiRAj+CXM/c2HK82VetVMM34RGUmCxz9v7yYnW9dnWyskyHR6azi72Jwep3ScVk9c7LLhKQrpRBSiI2n76puZFT3doUwH4pcmw/zpjrU2zw3dFt4XEWdvbKhpinzTBYt5bDH4qlLYO8cbKBWHOudDHluFtiLrLD0kmM2//6q9VFS+JLLDxv9GzMPV9v3XuzYgHEGSUGCngbRCLd4W6CxPCLHTDwVMkDA0y/qEa/lFFBoF2EEME8CAD6hsZK8+djlmSatuiXXsWfNh27NU6Yelro1bytPElRbaGaO1FGPfc7zPg9HvHlIaVD8AjID9y/+bgZ/6iP9ks7J/QZevh8w/cd2PlGs8CKt92R7MQEk0yA7GtWq9ETN3zRs7fpR7FaWi/3yXaipW1IjFnbaSM70N7dsRzbzbHd8aCx7+wmKskUO5esz0sPmvXYF67gBzoNfxptxb5stxM10iLg1pOTO23NhcUptW1hE6gFYYprC8QMMPNsMM+4pamVbps/HGkSsg+1Cv4d+0Jh//Sm3DjGix4rfwFoJNh2/0cDFgAAAABJRU5ErkJggg==\" class=\"ndarray_image_preview\" /><pre class=\"ndarray_raw_data\">array([[  0,   0,   0,   0,   0,   0,   0,   0,   0,   0,   0,   0,   0,\n",
       "          0,   0,   0,   0,   0,   0,   0,   0,   0,   0,   0,   0,   0,\n",
       "          0,   0],\n",
       "       [  0,   0,   0,   0,   0,   0,   0,   0,   0,   0,   0,   0,   0,\n",
       "          0,   0,   0,   0,   0,   0,   0,   0,   0,   0,   0,   0,   0,\n",
       "          0,   0],\n",
       "       [  0,   0,   0,   0,   0,   0,   0,   0,   0,   0,   0,   0,   0,\n",
       "          0,   0,   0,   0,   0,   0,   0,   0,   0,   0,   0,   0,   0,\n",
       "          0,   0],\n",
       "       [  0,   0,   0,   0,   0,   0,   0,   0,   0,   0,   0,   0,   1,\n",
       "          0,   0,  13,  73,   0,   0,   1,   4,   0,   0,   0,   0,   1,\n",
       "          1,   0],\n",
       "       [  0,   0,   0,   0,   0,   0,   0,   0,   0,   0,   0,   0,   3,\n",
       "          0,  36, 136, 127,  62,  54,   0,   0,   0,   1,   3,   4,   0,\n",
       "          0,   3],\n",
       "       [  0,   0,   0,   0,   0,   0,   0,   0,   0,   0,   0,   0,   6,\n",
       "          0, 102, 204, 176, 134, 144, 123,  23,   0,   0,   0,   0,  12,\n",
       "         10,   0],\n",
       "       [  0,   0,   0,   0,   0,   0,   0,   0,   0,   0,   0,   0,   0,\n",
       "          0, 155, 236, 207, 178, 107, 156, 161, 109,  64,  23,  77, 130,\n",
       "         72,  15],\n",
       "       [  0,   0,   0,   0,   0,   0,   0,   0,   0,   0,   0,   1,   0,\n",
       "         69, 207, 223, 218, 216, 216, 163, 127, 121, 122, 146, 141,  88,\n",
       "        172,  66],\n",
       "       [  0,   0,   0,   0,   0,   0,   0,   0,   0,   1,   1,   1,   0,\n",
       "        200, 232, 232, 233, 229, 223, 223, 215, 213, 164, 127, 123, 196,\n",
       "        229,   0],\n",
       "       [  0,   0,   0,   0,   0,   0,   0,   0,   0,   0,   0,   0,   0,\n",
       "        183, 225, 216, 223, 228, 235, 227, 224, 222, 224, 221, 223, 245,\n",
       "        173,   0],\n",
       "       [  0,   0,   0,   0,   0,   0,   0,   0,   0,   0,   0,   0,   0,\n",
       "        193, 228, 218, 213, 198, 180, 212, 210, 211, 213, 223, 220, 243,\n",
       "        202,   0],\n",
       "       [  0,   0,   0,   0,   0,   0,   0,   0,   0,   1,   3,   0,  12,\n",
       "        219, 220, 212, 218, 192, 169, 227, 208, 218, 224, 212, 226, 197,\n",
       "        209,  52],\n",
       "       [  0,   0,   0,   0,   0,   0,   0,   0,   0,   0,   6,   0,  99,\n",
       "        244, 222, 220, 218, 203, 198, 221, 215, 213, 222, 220, 245, 119,\n",
       "        167,  56],\n",
       "       [  0,   0,   0,   0,   0,   0,   0,   0,   0,   4,   0,   0,  55,\n",
       "        236, 228, 230, 228, 240, 232, 213, 218, 223, 234, 217, 217, 209,\n",
       "         92,   0],\n",
       "       [  0,   0,   1,   4,   6,   7,   2,   0,   0,   0,   0,   0, 237,\n",
       "        226, 217, 223, 222, 219, 222, 221, 216, 223, 229, 215, 218, 255,\n",
       "         77,   0],\n",
       "       [  0,   3,   0,   0,   0,   0,   0,   0,   0,  62, 145, 204, 228,\n",
       "        207, 213, 221, 218, 208, 211, 218, 224, 223, 219, 215, 224, 244,\n",
       "        159,   0],\n",
       "       [  0,   0,   0,   0,  18,  44,  82, 107, 189, 228, 220, 222, 217,\n",
       "        226, 200, 205, 211, 230, 224, 234, 176, 188, 250, 248, 233, 238,\n",
       "        215,   0],\n",
       "       [  0,  57, 187, 208, 224, 221, 224, 208, 204, 214, 208, 209, 200,\n",
       "        159, 245, 193, 206, 223, 255, 255, 221, 234, 221, 211, 220, 232,\n",
       "        246,   0],\n",
       "       [  3, 202, 228, 224, 221, 211, 211, 214, 205, 205, 205, 220, 240,\n",
       "         80, 150, 255, 229, 221, 188, 154, 191, 210, 204, 209, 222, 228,\n",
       "        225,   0],\n",
       "       [ 98, 233, 198, 210, 222, 229, 229, 234, 249, 220, 194, 215, 217,\n",
       "        241,  65,  73, 106, 117, 168, 219, 221, 215, 217, 223, 223, 224,\n",
       "        229,  29],\n",
       "       [ 75, 204, 212, 204, 193, 205, 211, 225, 216, 185, 197, 206, 198,\n",
       "        213, 240, 195, 227, 245, 239, 223, 218, 212, 209, 222, 220, 221,\n",
       "        230,  67],\n",
       "       [ 48, 203, 183, 194, 213, 197, 185, 190, 194, 192, 202, 214, 219,\n",
       "        221, 220, 236, 225, 216, 199, 206, 186, 181, 177, 172, 181, 205,\n",
       "        206, 115],\n",
       "       [  0, 122, 219, 193, 179, 171, 183, 196, 204, 210, 213, 207, 211,\n",
       "        210, 200, 196, 194, 191, 195, 191, 198, 192, 176, 156, 167, 177,\n",
       "        210,  92],\n",
       "       [  0,   0,  74, 189, 212, 191, 175, 172, 175, 181, 185, 188, 189,\n",
       "        188, 193, 198, 204, 209, 210, 210, 211, 188, 188, 194, 192, 216,\n",
       "        170,   0],\n",
       "       [  2,   0,   0,   0,  66, 200, 222, 237, 239, 242, 246, 243, 244,\n",
       "        221, 220, 193, 191, 179, 182, 182, 181, 176, 166, 168,  99,  58,\n",
       "          0,   0],\n",
       "       [  0,   0,   0,   0,   0,   0,   0,  40,  61,  44,  72,  41,  35,\n",
       "          0,   0,   0,   0,   0,   0,   0,   0,   0,   0,   0,   0,   0,\n",
       "          0,   0],\n",
       "       [  0,   0,   0,   0,   0,   0,   0,   0,   0,   0,   0,   0,   0,\n",
       "          0,   0,   0,   0,   0,   0,   0,   0,   0,   0,   0,   0,   0,\n",
       "          0,   0],\n",
       "       [  0,   0,   0,   0,   0,   0,   0,   0,   0,   0,   0,   0,   0,\n",
       "          0,   0,   0,   0,   0,   0,   0,   0,   0,   0,   0,   0,   0,\n",
       "          0,   0]], dtype=uint8)</pre></div><script>\n",
       "      (() => {\n",
       "      const titles = ['show data', 'hide data'];\n",
       "      let index = 0\n",
       "      document.querySelector('#id-c0567e95-9c56-4550-8ee3-8ae14f123832 button').onclick = (e) => {\n",
       "        document.querySelector('#id-c0567e95-9c56-4550-8ee3-8ae14f123832').classList.toggle('show_array');\n",
       "        index = (++index) % 2;\n",
       "        document.querySelector('#id-c0567e95-9c56-4550-8ee3-8ae14f123832 button').textContent = titles[index];\n",
       "        e.preventDefault();\n",
       "        e.stopPropagation();\n",
       "      }\n",
       "      })();\n",
       "    </script>"
      ],
      "text/plain": [
       "array([[  0,   0,   0,   0,   0,   0,   0,   0,   0,   0,   0,   0,   0,\n",
       "          0,   0,   0,   0,   0,   0,   0,   0,   0,   0,   0,   0,   0,\n",
       "          0,   0],\n",
       "       [  0,   0,   0,   0,   0,   0,   0,   0,   0,   0,   0,   0,   0,\n",
       "          0,   0,   0,   0,   0,   0,   0,   0,   0,   0,   0,   0,   0,\n",
       "          0,   0],\n",
       "       [  0,   0,   0,   0,   0,   0,   0,   0,   0,   0,   0,   0,   0,\n",
       "          0,   0,   0,   0,   0,   0,   0,   0,   0,   0,   0,   0,   0,\n",
       "          0,   0],\n",
       "       [  0,   0,   0,   0,   0,   0,   0,   0,   0,   0,   0,   0,   1,\n",
       "          0,   0,  13,  73,   0,   0,   1,   4,   0,   0,   0,   0,   1,\n",
       "          1,   0],\n",
       "       [  0,   0,   0,   0,   0,   0,   0,   0,   0,   0,   0,   0,   3,\n",
       "          0,  36, 136, 127,  62,  54,   0,   0,   0,   1,   3,   4,   0,\n",
       "          0,   3],\n",
       "       [  0,   0,   0,   0,   0,   0,   0,   0,   0,   0,   0,   0,   6,\n",
       "          0, 102, 204, 176, 134, 144, 123,  23,   0,   0,   0,   0,  12,\n",
       "         10,   0],\n",
       "       [  0,   0,   0,   0,   0,   0,   0,   0,   0,   0,   0,   0,   0,\n",
       "          0, 155, 236, 207, 178, 107, 156, 161, 109,  64,  23,  77, 130,\n",
       "         72,  15],\n",
       "       [  0,   0,   0,   0,   0,   0,   0,   0,   0,   0,   0,   1,   0,\n",
       "         69, 207, 223, 218, 216, 216, 163, 127, 121, 122, 146, 141,  88,\n",
       "        172,  66],\n",
       "       [  0,   0,   0,   0,   0,   0,   0,   0,   0,   1,   1,   1,   0,\n",
       "        200, 232, 232, 233, 229, 223, 223, 215, 213, 164, 127, 123, 196,\n",
       "        229,   0],\n",
       "       [  0,   0,   0,   0,   0,   0,   0,   0,   0,   0,   0,   0,   0,\n",
       "        183, 225, 216, 223, 228, 235, 227, 224, 222, 224, 221, 223, 245,\n",
       "        173,   0],\n",
       "       [  0,   0,   0,   0,   0,   0,   0,   0,   0,   0,   0,   0,   0,\n",
       "        193, 228, 218, 213, 198, 180, 212, 210, 211, 213, 223, 220, 243,\n",
       "        202,   0],\n",
       "       [  0,   0,   0,   0,   0,   0,   0,   0,   0,   1,   3,   0,  12,\n",
       "        219, 220, 212, 218, 192, 169, 227, 208, 218, 224, 212, 226, 197,\n",
       "        209,  52],\n",
       "       [  0,   0,   0,   0,   0,   0,   0,   0,   0,   0,   6,   0,  99,\n",
       "        244, 222, 220, 218, 203, 198, 221, 215, 213, 222, 220, 245, 119,\n",
       "        167,  56],\n",
       "       [  0,   0,   0,   0,   0,   0,   0,   0,   0,   4,   0,   0,  55,\n",
       "        236, 228, 230, 228, 240, 232, 213, 218, 223, 234, 217, 217, 209,\n",
       "         92,   0],\n",
       "       [  0,   0,   1,   4,   6,   7,   2,   0,   0,   0,   0,   0, 237,\n",
       "        226, 217, 223, 222, 219, 222, 221, 216, 223, 229, 215, 218, 255,\n",
       "         77,   0],\n",
       "       [  0,   3,   0,   0,   0,   0,   0,   0,   0,  62, 145, 204, 228,\n",
       "        207, 213, 221, 218, 208, 211, 218, 224, 223, 219, 215, 224, 244,\n",
       "        159,   0],\n",
       "       [  0,   0,   0,   0,  18,  44,  82, 107, 189, 228, 220, 222, 217,\n",
       "        226, 200, 205, 211, 230, 224, 234, 176, 188, 250, 248, 233, 238,\n",
       "        215,   0],\n",
       "       [  0,  57, 187, 208, 224, 221, 224, 208, 204, 214, 208, 209, 200,\n",
       "        159, 245, 193, 206, 223, 255, 255, 221, 234, 221, 211, 220, 232,\n",
       "        246,   0],\n",
       "       [  3, 202, 228, 224, 221, 211, 211, 214, 205, 205, 205, 220, 240,\n",
       "         80, 150, 255, 229, 221, 188, 154, 191, 210, 204, 209, 222, 228,\n",
       "        225,   0],\n",
       "       [ 98, 233, 198, 210, 222, 229, 229, 234, 249, 220, 194, 215, 217,\n",
       "        241,  65,  73, 106, 117, 168, 219, 221, 215, 217, 223, 223, 224,\n",
       "        229,  29],\n",
       "       [ 75, 204, 212, 204, 193, 205, 211, 225, 216, 185, 197, 206, 198,\n",
       "        213, 240, 195, 227, 245, 239, 223, 218, 212, 209, 222, 220, 221,\n",
       "        230,  67],\n",
       "       [ 48, 203, 183, 194, 213, 197, 185, 190, 194, 192, 202, 214, 219,\n",
       "        221, 220, 236, 225, 216, 199, 206, 186, 181, 177, 172, 181, 205,\n",
       "        206, 115],\n",
       "       [  0, 122, 219, 193, 179, 171, 183, 196, 204, 210, 213, 207, 211,\n",
       "        210, 200, 196, 194, 191, 195, 191, 198, 192, 176, 156, 167, 177,\n",
       "        210,  92],\n",
       "       [  0,   0,  74, 189, 212, 191, 175, 172, 175, 181, 185, 188, 189,\n",
       "        188, 193, 198, 204, 209, 210, 210, 211, 188, 188, 194, 192, 216,\n",
       "        170,   0],\n",
       "       [  2,   0,   0,   0,  66, 200, 222, 237, 239, 242, 246, 243, 244,\n",
       "        221, 220, 193, 191, 179, 182, 182, 181, 176, 166, 168,  99,  58,\n",
       "          0,   0],\n",
       "       [  0,   0,   0,   0,   0,   0,   0,  40,  61,  44,  72,  41,  35,\n",
       "          0,   0,   0,   0,   0,   0,   0,   0,   0,   0,   0,   0,   0,\n",
       "          0,   0],\n",
       "       [  0,   0,   0,   0,   0,   0,   0,   0,   0,   0,   0,   0,   0,\n",
       "          0,   0,   0,   0,   0,   0,   0,   0,   0,   0,   0,   0,   0,\n",
       "          0,   0],\n",
       "       [  0,   0,   0,   0,   0,   0,   0,   0,   0,   0,   0,   0,   0,\n",
       "          0,   0,   0,   0,   0,   0,   0,   0,   0,   0,   0,   0,   0,\n",
       "          0,   0]], dtype=uint8)"
      ]
     },
     "execution_count": 21,
     "metadata": {},
     "output_type": "execute_result"
    }
   ],
   "source": [
    "X_train[0]"
   ]
  },
  {
   "cell_type": "code",
   "execution_count": 22,
   "metadata": {
    "colab": {
     "base_uri": "https://localhost:8080/",
     "height": 430
    },
    "id": "SFThejmYG9hl",
    "outputId": "3e16e2cf-33b5-432f-e1f7-604b2e24b1a2"
   },
   "outputs": [
    {
     "data": {
      "image/png": "[encoded data removed]",
      "text/plain": [
       "<Figure size 640x480 with 2 Axes>"
      ]
     },
     "metadata": {},
     "output_type": "display_data"
    }
   ],
   "source": [
    "plt.figure()\n",
    "plt.imshow(X_train[0])\n",
    "plt.colorbar()\n",
    "plt.show()\n",
    "\n",
    "# yellow =250"
   ]
  },
  {
   "cell_type": "markdown",
   "metadata": {
    "id": "bGvOt0FKHTiz"
   },
   "source": [
    "As you can see the image is a top and the value at index 0 of y_train also corresponds to the class name top."
   ]
  },
  {
   "cell_type": "code",
   "execution_count": 23,
   "metadata": {
    "colab": {
     "base_uri": "https://localhost:8080/",
     "height": 36
    },
    "id": "NdLMjGSPHYT4",
    "outputId": "958c386e-0671-4f68-b94e-a2a6e000db19"
   },
   "outputs": [
    {
     "data": {
      "application/vnd.google.colaboratory.intrinsic+json": {
       "type": "string"
      },
      "text/plain": [
       "'ankle boot'"
      ]
     },
     "execution_count": 23,
     "metadata": {},
     "output_type": "execute_result"
    }
   ],
   "source": [
    "#x_train[0]  =========== y_train[0]=9\n",
    "class_names[y_train[0]]"
   ]
  },
  {
   "cell_type": "code",
   "execution_count": 24,
   "metadata": {
    "colab": {
     "base_uri": "https://localhost:8080/",
     "height": 430
    },
    "id": "OUun_1350-Yq",
    "outputId": "bba260f8-b968-48a7-9560-870c0f6a868f"
   },
   "outputs": [
    {
     "data": {
      "image/png": "[encoded data removed]",
      "text/plain": [
       "<Figure size 640x480 with 2 Axes>"
      ]
     },
     "metadata": {},
     "output_type": "display_data"
    }
   ],
   "source": [
    "plt.figure()\n",
    "plt.imshow(X_train[1])\n",
    "plt.colorbar()\n",
    "plt.show()"
   ]
  },
  {
   "cell_type": "code",
   "execution_count": 25,
   "metadata": {
    "colab": {
     "base_uri": "https://localhost:8080/",
     "height": 36
    },
    "id": "mOelhbuPz7Fr",
    "outputId": "4d085995-968f-4923-a39c-479c2f237c69"
   },
   "outputs": [
    {
     "data": {
      "application/vnd.google.colaboratory.intrinsic+json": {
       "type": "string"
      },
      "text/plain": [
       "'top'"
      ]
     },
     "execution_count": 25,
     "metadata": {},
     "output_type": "execute_result"
    }
   ],
   "source": [
    "y_train[1]   # index  =1\n",
    "\n",
    "class_names[y_train[1]]  # class_names[0]\n",
    "\n",
    "# in y_train we have indexes  from 0 to 9\n",
    "# class names is alist of items"
   ]
  },
  {
   "cell_type": "code",
   "execution_count": 26,
   "metadata": {
    "colab": {
     "base_uri": "https://localhost:8080/",
     "height": 826
    },
    "id": "nnbrcu09DpiR",
    "outputId": "bbb3793d-57f8-4efd-c24b-a747d2a8a7d4"
   },
   "outputs": [
    {
     "data": {
      "image/png": "[encoded data removed]",
      "text/plain": [
       "<Figure size 1000x1000 with 25 Axes>"
      ]
     },
     "metadata": {},
     "output_type": "display_data"
    }
   ],
   "source": [
    "plt.figure(figsize=(10,10))\n",
    "for i in range(25):  # 25images\n",
    "    plt.subplot(5,5,i+1) # 25 plots  i=2   5,5,2\n",
    "    plt.xticks([])\n",
    "    plt.yticks([])\n",
    "    plt.grid(False)\n",
    "    plt.imshow(X_train[i])\n",
    "    plt.xlabel(class_names[y_train[i]])\n",
    "plt.show()"
   ]
  },
  {
   "cell_type": "markdown",
   "metadata": {
    "id": "jz2QG0-_2C6T"
   },
   "source": [
    "**Normalization**\n",
    "\n",
    "range between 0 to 1"
   ]
  },
  {
   "cell_type": "markdown",
   "metadata": {
    "id": "P6OuSrr6H84Y"
   },
   "source": [
    "Neural Network model doesn't take value greater than 1.\n",
    "\n",
    "So we need to bring all the values between 0 and 1.\n",
    "\n",
    "To do this we will divide all the values in the training and testing dataset by 255 as the greatest value in our dataset is 255."
   ]
  },
  {
   "cell_type": "code",
   "execution_count": 27,
   "metadata": {
    "id": "z590xnrTHqm_"
   },
   "outputs": [],
   "source": [
    "X_train = X_train/255.0\n",
    "X_test = X_test/255.0"
   ]
  },
  {
   "cell_type": "markdown",
   "metadata": {
    "id": "06i0ugNgIKdf"
   },
   "source": [
    "Now we can see that all the values are between 0 and 1."
   ]
  },
  {
   "cell_type": "code",
   "execution_count": 28,
   "metadata": {
    "colab": {
     "base_uri": "https://localhost:8080/",
     "height": 452
    },
    "id": "_8tUGtvSHvWP",
    "outputId": "1c6c83c2-9de5-4fbd-84f3-ff87c9ba4026"
   },
   "outputs": [
    {
     "data": {
      "text/plain": [
       "<matplotlib.colorbar.Colorbar at 0x7cad8356ae30>"
      ]
     },
     "execution_count": 28,
     "metadata": {},
     "output_type": "execute_result"
    },
    {
     "data": {
      "image/png": "[encoded data removed]",
      "text/plain": [
       "<Figure size 640x480 with 2 Axes>"
      ]
     },
     "metadata": {},
     "output_type": "display_data"
    }
   ],
   "source": [
    "plt.figure()\n",
    "plt.imshow(X_train[1])\n",
    "plt.colorbar()"
   ]
  },
  {
   "cell_type": "markdown",
   "metadata": {
    "id": "M7ZonSxE2xBR"
   },
   "source": [
    "- We read the data\n",
    "\n",
    "- we understand the values\n",
    "\n",
    "- we understand the shape of the data\n",
    "\n",
    "- we plot the data\n",
    "\n",
    "- we understand the lables of the data\n",
    "\n",
    "- we normlaize the data\n",
    "\n",
    "- here train and test data both are available\n",
    "\n",
    "- here X(input data)  , y (target data) already provided"
   ]
  },
  {
   "cell_type": "markdown",
   "metadata": {
    "id": "AprtZf-IIVI5"
   },
   "source": [
    "**Build the model with TF 2.0**"
   ]
  },
  {
   "cell_type": "markdown",
   "metadata": {
    "id": "hAcmnJ6WIdii"
   },
   "source": [
    "We will import the necessary layers to build the model. The Neural Network is constructed from 3 type of layers:\n",
    "\n",
    "**Input layer** — initial data for the neural network.\n",
    "\n",
    "**Hidden layers** — intermediate layer between input and output layer and place\n",
    "where all the computation is done.\n",
    "\n",
    "**Output layer** — produce the result for given inputs"
   ]
  },
  {
   "cell_type": "code",
   "execution_count": 29,
   "metadata": {
    "id": "VBbb2oh6IIoL"
   },
   "outputs": [],
   "source": [
    "from tensorflow.keras import Sequential\n",
    "from tensorflow.keras.layers import Flatten, Dense"
   ]
  },
  {
   "cell_type": "markdown",
   "metadata": {
    "id": "qSuvqv5NI5gN"
   },
   "source": [
    "**Flatten()**\n",
    "\n",
    "- is used as the input layer to convert the data into a 1-dimensional array for input it to the next layer.\n",
    "\n",
    "\n",
    "- Our image 2D image will be converted to a single 1D column.\n",
    "input_shape = (28,28) because the size of our input image is 28x28.\n",
    "\n",
    "**Dense()**\n",
    "\n",
    "    - layer is the regular deeply connected neural network layer.\n",
    "\n",
    "    - It is most common and frequently used layer.\n",
    "    \n",
    "    - We have a dense layer with 128 neurons with activation function relu.\n",
    "    \n",
    "    - The rectified linear activation function or ReLU for short is a piecewise linear function that will output the input directly if it is positive, otherwise, it will output zero."
   ]
  },
  {
   "cell_type": "markdown",
   "metadata": {
    "id": "cMCHsXTSJOGu"
   },
   "source": [
    "<img decoding=\"async\" loading=\"lazy\" width=\"357\" height=\"278\" src=\"https://kgptalkie.com/wp-content/uploads/2020/08/relu.png\" alt=\"\" class=\"wp-image-3518\" srcset=\"https://kgptalkie.com/wp-content/uploads/2020/08/relu.png 357w, https://kgptalkie.com/wp-content/uploads/2020/08/relu-300x234.png 300w\" sizes=\"(max-width: 357px) 100vw, 357px\">"
   ]
  },
  {
   "cell_type": "markdown",
   "metadata": {
    "id": "Rop3Sw5BJS-V"
   },
   "source": [
    "- The **output layer** is a dense layer with 10 neurons because we have 10 classes.\n",
    "\n",
    "- The activation function used is **softmax**.\n",
    "\n",
    "- Softmax converts a real vector to a vector of categorical probabilities.\n",
    "\n",
    "- The elements of the output vector are in range (0, 1) and sum to 1.\n",
    "\n",
    "- Softmax is often used as the activation for the last layer of a classification network because the result could be interpreted as a probability distribution."
   ]
  },
  {
   "cell_type": "code",
   "execution_count": 30,
   "metadata": {
    "colab": {
     "base_uri": "https://localhost:8080/",
     "height": 0
    },
    "id": "75mVZhKpSKky",
    "outputId": "ccddeefb-b459-4697-c87c-c4ef623d8e2f"
   },
   "outputs": [
    {
     "data": {
      "text/plain": [
       "(28, 28)"
      ]
     },
     "execution_count": 30,
     "metadata": {},
     "output_type": "execute_result"
    }
   ],
   "source": [
    "X_train.shape[1:]"
   ]
  },
  {
   "cell_type": "markdown",
   "metadata": {
    "id": "9z8gJl461F1-"
   },
   "source": [
    "## Model Development"
   ]
  },
  {
   "cell_type": "markdown",
   "metadata": {
    "id": "jfZR7F131PC0"
   },
   "source": [
    "<img id=\"dimg_301\" src=\"data:image/png;base64,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\" class=\"YQ4gaf\" height=\"246\" style=\"object-position:16% 36%\" width=\"205\" alt=\"Neural network (machine learning ...\" data-csiid=\"7\" data-atf=\"1\">"
   ]
  },
  {
   "cell_type": "code",
   "execution_count": 31,
   "metadata": {
    "id": "pmB6sAvSIvo5"
   },
   "outputs": [],
   "source": [
    "model = Sequential()\n",
    "# input layer   starts flatten 28x28 === 1-D\n",
    "model.add(Flatten(input_shape = (28, 28)))   # 28x28=784 input\n",
    "\n",
    "\n",
    "\n",
    "# one Hidden layer\n",
    "# how many neurons wants to use : 128\n",
    "# which activation function wants to use : 'relu'\n",
    "# bcz it avoids vanish gradients problem\n",
    "\n",
    "model.add(Dense(128, activation = 'relu'))  # 128   :  784x128+ 128*(1bias)\n",
    "\n",
    "# Output layer\n",
    "# how many classes are there =10\n",
    "# how many neuorns : 10\n",
    "# activation: softmax\n",
    "model.add(Dense(10, activation = 'softmax'))  # 128 is attached with 10 neurons= 128x10=1280 +10*(1bias)\n"
   ]
  },
  {
   "cell_type": "markdown",
   "metadata": {
    "id": "K7V-lSGz1a9W"
   },
   "source": [
    "## Model summary"
   ]
  },
  {
   "cell_type": "code",
   "execution_count": 32,
   "metadata": {
    "colab": {
     "base_uri": "https://localhost:8080/",
     "height": 0
    },
    "id": "Cs0dR2XRJpPr",
    "outputId": "73687394-d943-4111-b73e-680dc1a53779"
   },
   "outputs": [
    {
     "name": "stdout",
     "output_type": "stream",
     "text": [
      "Model: \"sequential\"\n",
      "_________________________________________________________________\n",
      " Layer (type)                Output Shape              Param #   \n",
      "=================================================================\n",
      " flatten (Flatten)           (None, 784)               0         \n",
      "                                                                 \n",
      " dense (Dense)               (None, 128)               100480    \n",
      "                                                                 \n",
      " dense_1 (Dense)             (None, 10)                1290      \n",
      "                                                                 \n",
      "=================================================================\n",
      "Total params: 101770 (397.54 KB)\n",
      "Trainable params: 101770 (397.54 KB)\n",
      "Non-trainable params: 0 (0.00 Byte)\n",
      "_________________________________________________________________\n"
     ]
    }
   ],
   "source": [
    "model.summary()\n",
    "# how many weights for input layer = 28x28 ==== > 784 ==== > weights\n",
    "# hidden layer weights= 128\n",
    "\n",
    "# total weights till inputlayer + hidden layer= 784*128=100352+ 128= 100480\n",
    "# hidden layer + outpulayer= 128*10=1280+10 bais= 1290\n",
    "\n",
    "# Total weights= 100480+1290\n",
    "\n",
    "# servers drinks so much water"
   ]
  },
  {
   "cell_type": "markdown",
   "metadata": {
    "id": "A7TqGqZh0awL"
   },
   "source": [
    "## Mode Compile"
   ]
  },
  {
   "cell_type": "markdown",
   "metadata": {
    "id": "6TqZ55IXJzoj"
   },
   "source": [
    "**Model compilation**"
   ]
  },
  {
   "cell_type": "markdown",
   "metadata": {
    "id": "m_ZrZft4J4PS"
   },
   "source": [
    "**Loss Function:** A loss function is used to optimize the parameter values in a neural network model. Loss functions map a set of parameter values for the network onto a scalar value that indicates how well those parameter accomplish the task the network is intended to do.\n",
    "\n",
    "**Optimizer:** Optimizers are algorithms or methods used to change the attributes of your neural network such as weights and learning rate in order to reduce the losses.\n",
    "\n",
    "**Metrics:** A metric is a function that is used to judge the performance of your model. Metric functions are similar to loss functions, except that the results from evaluating a metric are not used when training the model."
   ]
  },
  {
   "cell_type": "markdown",
   "metadata": {
    "id": "Lf3scsD5KIkA"
   },
   "source": [
    "Here we are compiling the model and fitting it to the training data. We will use 10 epochs to train the model. An epoch is an iteration over the entire data provided."
   ]
  },
  {
   "cell_type": "markdown",
   "metadata": {
    "id": "kyxPW1l17DDu"
   },
   "source": [
    "**Log Loss (Binary Cross-Entropy Loss):** A loss function that represents how much the predicted probabilities deviate from the true ones.\n",
    "\n",
    "It is used in binary cases.\n",
    "\n",
    "**Cross-Entropy Loss:** A generalized form of the log loss, which is used for multi-class classification problems."
   ]
  },
  {
   "cell_type": "markdown",
   "metadata": {
    "id": "0FYwcTi40Xh4"
   },
   "source": [
    "<img id=\"dimg_405\" src=\"https://encrypted-tbn0.gstatic.com/images?q=tbn:ANd9GcT4ftm3TWhDf8CX99Liu-i1qHPO-S0OBwPByw&amp;s\" class=\"YQ4gaf\" height=\"172\" style=\"object-position:center\" width=\"293\" alt=\"haltakov.eth 🧱🔨 on X: &quot;Machine Learning ...\" data-csiid=\"59\" data-atf=\"4\" data-ilt=\"1708622077104\" data-deferred=\"3\">"
   ]
  },
  {
   "cell_type": "code",
   "execution_count": null,
   "metadata": {
    "id": "Zlfi_sgCCh4w"
   },
   "outputs": [],
   "source": []
  },
  {
   "cell_type": "code",
   "execution_count": 33,
   "metadata": {
    "id": "-70CkL5BJr3D"
   },
   "outputs": [],
   "source": [
    "from re import VERBOSE\n",
    "# Now we know how many weights need to update\n",
    "# to find the weights we have optimzers\n",
    "model.compile(optimizer='adam',\n",
    "              loss = 'sparse_categorical_crossentropy',\n",
    "              metrics = ['accuracy'])"
   ]
  },
  {
   "cell_type": "markdown",
   "metadata": {
    "id": "FuBV2YsC0kBK"
   },
   "source": [
    "## Mode fit"
   ]
  },
  {
   "cell_type": "code",
   "execution_count": 34,
   "metadata": {
    "colab": {
     "base_uri": "https://localhost:8080/",
     "height": 0
    },
    "id": "Y0PJ_Pd00mN1",
    "outputId": "eb7c6fde-838e-4c4c-9d4e-3b08d7993dbf"
   },
   "outputs": [
    {
     "name": "stdout",
     "output_type": "stream",
     "text": [
      "Epoch 1/10\n",
      "938/938 [==============================] - 6s 5ms/step - loss: 0.5181 - accuracy: 0.8208\n",
      "Epoch 2/10\n",
      "938/938 [==============================] - 9s 9ms/step - loss: 0.3829 - accuracy: 0.8630\n",
      "Epoch 3/10\n",
      "938/938 [==============================] - 6s 6ms/step - loss: 0.3461 - accuracy: 0.8743\n",
      "Epoch 4/10\n",
      "938/938 [==============================] - 4s 4ms/step - loss: 0.3206 - accuracy: 0.8836\n",
      "Epoch 5/10\n",
      "938/938 [==============================] - 4s 5ms/step - loss: 0.3052 - accuracy: 0.8883\n",
      "Epoch 6/10\n",
      "938/938 [==============================] - 4s 4ms/step - loss: 0.2914 - accuracy: 0.8926\n",
      "Epoch 7/10\n",
      "938/938 [==============================] - 5s 5ms/step - loss: 0.2779 - accuracy: 0.8982\n",
      "Epoch 8/10\n",
      "938/938 [==============================] - 6s 7ms/step - loss: 0.2651 - accuracy: 0.9021\n",
      "Epoch 9/10\n",
      "938/938 [==============================] - 4s 5ms/step - loss: 0.2557 - accuracy: 0.9056\n",
      "Epoch 10/10\n",
      "938/938 [==============================] - 5s 5ms/step - loss: 0.2461 - accuracy: 0.9095\n"
     ]
    },
    {
     "data": {
      "text/plain": [
       "<keras.src.callbacks.History at 0x7cad835e9d80>"
      ]
     },
     "execution_count": 34,
     "metadata": {},
     "output_type": "execute_result"
    }
   ],
   "source": [
    "model.fit(X_train,\n",
    "          y_train,\n",
    "          epochs = 10,\n",
    "          batch_size=64,\n",
    "          verbose=True)\n",
    "\n",
    "## By default verbose =True ============ > It will display the information\n",
    "##            verbose=False ============ > It will not display the information\n",
    "# epoch = Forward pass + Backward pass\n",
    "# Forward pass assign weights randomly at intial state\n",
    "# Backward pass update the weight by ADAM\n",
    "# Back prpogation\n",
    "\n",
    "\n",
    "# loss is not reducing\n",
    "# weights are same ====== vansihing gradients problem\n",
    "\n",
    "# loss is reducing\n",
    "# weights are same ==== we are good\n",
    "\n",
    "# here we are passing batch size=64\n",
    "# 60000/64= 938 btaches\n",
    "\n",
    "\n",
    "\n",
    "# 60000k samples are divided into batches\n",
    "# default batch size=32\n",
    "# 60000/32=1875 batches   each batch has 32 samples\n"
   ]
  },
  {
   "cell_type": "markdown",
   "metadata": {
    "id": "-QVXXUMDU8rw"
   },
   "source": [
    "**Hyper parameters**\n",
    "\n",
    "- Number of Hidden layer\n",
    "\n",
    "- Number of Neurons\n",
    "\n",
    "- Optimizer\n",
    "\n",
    "- loss\n",
    "\n",
    "- accuracy\n",
    "\n",
    "- Epochs\n",
    "\n",
    "- Batch size\n",
    "\n",
    "- learning rate\n"
   ]
  },
  {
   "cell_type": "code",
   "execution_count": null,
   "metadata": {
    "id": "ldd2wdSt9WO5"
   },
   "outputs": [],
   "source": []
  },
  {
   "cell_type": "markdown",
   "metadata": {
    "id": "jsgkPzYF0_Eu"
   },
   "source": [
    "## Model Evaluation"
   ]
  },
  {
   "cell_type": "markdown",
   "metadata": {
    "id": "U1cZ9G7OKSpn"
   },
   "source": [
    "Now we will evaluate the accuracy using the test data. We have got an accuracy of 87.82%."
   ]
  },
  {
   "cell_type": "code",
   "execution_count": null,
   "metadata": {
    "colab": {
     "base_uri": "https://localhost:8080/"
    },
    "id": "JEJ33e24KOOt",
    "outputId": "6ebfbfc1-0c3b-415c-ede3-136b4ff21a9a"
   },
   "outputs": [
    {
     "name": "stdout",
     "output_type": "stream",
     "text": [
      "313/313 [==============================] - 0s 1ms/step - loss: 0.4772 - accuracy: 0.8876\n",
      "0.8876000046730042\n"
     ]
    }
   ],
   "source": [
    "test_loss, test_acc = model.evaluate(X_test, y_test)\n",
    "print(test_acc)"
   ]
  },
  {
   "cell_type": "markdown",
   "metadata": {
    "id": "97068_AV1pr6"
   },
   "source": [
    "## Model Predictions"
   ]
  },
  {
   "cell_type": "markdown",
   "metadata": {
    "id": "4GFfdWTKKZGu"
   },
   "source": [
    "Now we are going to do predictions using sklearn and see the accuracy. For that we will import accuracy_score from sklearn."
   ]
  },
  {
   "cell_type": "code",
   "execution_count": null,
   "metadata": {
    "id": "J77QivfmKcZj"
   },
   "outputs": [],
   "source": [
    "from sklearn.metrics import accuracy_score"
   ]
  },
  {
   "cell_type": "markdown",
   "metadata": {
    "id": "FsjvJzdUKfBx"
   },
   "source": [
    "**predict_classes** generates class predictions for the input samples.\n",
    "\n",
    "Here we are giving X_test containing 10000 images as the input.\n",
    "\n",
    " We are even predicting the accuracy.\n",
    "\n",
    " In multilabel classification, accuracy_score computes subset accuracy:\n",
    "\n",
    " the set of labels predicted for a sample must exactly match the corresponding set of labels in y_test."
   ]
  },
  {
   "cell_type": "code",
   "execution_count": 36,
   "metadata": {
    "colab": {
     "base_uri": "https://localhost:8080/",
     "height": 0
    },
    "id": "020Xe1vKK0x-",
    "outputId": "3e30bc0f-96bd-4cc4-b34a-311d94bd1e48"
   },
   "outputs": [
    {
     "name": "stdout",
     "output_type": "stream",
     "text": [
      "313/313 [==============================] - 1s 2ms/step\n"
     ]
    },
    {
     "data": {
      "text/plain": [
       "array([[3.6421750e-07, 8.4304908e-08, 1.2469633e-07, ..., 5.0180429e-03,\n",
       "        6.5997011e-07, 9.8424685e-01],\n",
       "       [1.1249082e-05, 1.5963834e-11, 9.9487054e-01, ..., 2.8321015e-15,\n",
       "        4.2949591e-09, 8.5014108e-14],\n",
       "       [1.3733759e-08, 9.9999994e-01, 7.0525530e-12, ..., 3.3752905e-20,\n",
       "        3.3480094e-12, 1.0548861e-14],\n",
       "       ...,\n",
       "       [8.9459885e-05, 9.8593543e-11, 5.1563427e-05, ..., 2.7585252e-09,\n",
       "        9.9971473e-01, 1.3601699e-09],\n",
       "       [4.3912736e-09, 9.9999434e-01, 4.0503081e-10, ..., 1.8074492e-16,\n",
       "        3.1057992e-10, 5.8636498e-11],\n",
       "       [1.1598658e-05, 2.3615415e-08, 1.2703646e-05, ..., 3.2724382e-04,\n",
       "        6.0425409e-05, 1.0841404e-06]], dtype=float32)"
      ]
     },
     "execution_count": 36,
     "metadata": {},
     "output_type": "execute_result"
    }
   ],
   "source": [
    "y_pred = model.predict(X_test)\n",
    "y_pred\n",
    "#accuracy_score(y_test, y_pred)\n",
    "\n",
    "# how many probabilities will get for one image = 10\n",
    "\n",
    "# In ML will get direct labels as predictions\n",
    "# but always remember before getting the classes , we actually get some probability values\n",
    "# for one test sample will get probability values that is equal to number of classes\n",
    "# in this problem we have 10 classes\n",
    "# one test sample will get 10 probabilities\n",
    "# which is the higest probability , that will be the answer"
   ]
  },
  {
   "cell_type": "code",
   "execution_count": null,
   "metadata": {
    "colab": {
     "base_uri": "https://localhost:8080/"
    },
    "id": "7bWU8WViHumj",
    "outputId": "76128837-fc0e-498c-f83d-f9f1646bc619"
   },
   "outputs": [
    {
     "data": {
      "text/plain": [
       "10000"
      ]
     },
     "execution_count": 38,
     "metadata": {},
     "output_type": "execute_result"
    }
   ],
   "source": [
    "len(X_test)"
   ]
  },
  {
   "cell_type": "code",
   "execution_count": null,
   "metadata": {
    "colab": {
     "base_uri": "https://localhost:8080/"
    },
    "id": "hcPNQ1eAHWyi",
    "outputId": "eaaab8b7-df74-4013-fd35-0ad23373cdca"
   },
   "outputs": [
    {
     "data": {
      "text/plain": [
       "array([1.1912752e-15, 1.3815152e-20, 6.4996951e-16, 8.8415409e-22,\n",
       "       7.3651484e-16, 3.4553342e-09, 3.2784599e-20, 5.4112365e-06,\n",
       "       4.1912851e-17, 9.9999458e-01], dtype=float32)"
      ]
     },
     "execution_count": 39,
     "metadata": {},
     "output_type": "execute_result"
    }
   ],
   "source": [
    "y_pred[0]  #  how many predictons =  number test cases"
   ]
  },
  {
   "cell_type": "code",
   "execution_count": null,
   "metadata": {
    "colab": {
     "base_uri": "https://localhost:8080/"
    },
    "id": "Y2ErrWkV-Xg1",
    "outputId": "496cf397-7a34-480f-8599-62136bbd6712"
   },
   "outputs": [
    {
     "data": {
      "text/plain": [
       "1.0"
      ]
     },
     "execution_count": 40,
     "metadata": {},
     "output_type": "execute_result"
    }
   ],
   "source": [
    "np.sum(y_pred[0]) # Summation of all probabilities =1"
   ]
  },
  {
   "cell_type": "code",
   "execution_count": null,
   "metadata": {
    "colab": {
     "base_uri": "https://localhost:8080/"
    },
    "id": "x4GJ8yjZJH08",
    "outputId": "a2ce9832-9f88-4966-b711-e53ba65b6efe"
   },
   "outputs": [
    {
     "data": {
      "text/plain": [
       "0.9999946"
      ]
     },
     "execution_count": 47,
     "metadata": {},
     "output_type": "execute_result"
    }
   ],
   "source": [
    "max=np.max(y_pred[0])\n",
    "max"
   ]
  },
  {
   "cell_type": "code",
   "execution_count": null,
   "metadata": {
    "colab": {
     "base_uri": "https://localhost:8080/"
    },
    "id": "ilbLKERdJU-l",
    "outputId": "7d6f618a-601e-4763-8375-e59d815531f3"
   },
   "outputs": [
    {
     "data": {
      "text/plain": [
       "9"
      ]
     },
     "execution_count": 49,
     "metadata": {},
     "output_type": "execute_result"
    }
   ],
   "source": [
    "index=list(y_pred[0]).index(max)\n",
    "index"
   ]
  },
  {
   "cell_type": "markdown",
   "metadata": {
    "id": "VNZhnqqW13g5"
   },
   "source": [
    "**np.max  vs np.argmax**\n",
    "\n",
    "- np.max  will give maximum value in array\n",
    "\n",
    "- np.argmax will give index of the maximum value\n",
    "\n",
    "- using these index we can get the class names"
   ]
  },
  {
   "cell_type": "code",
   "execution_count": null,
   "metadata": {
    "colab": {
     "base_uri": "https://localhost:8080/"
    },
    "id": "wqY4elGmKr7E",
    "outputId": "c8ef0964-0367-4735-dc9e-5338a3fee274"
   },
   "outputs": [
    {
     "data": {
      "text/plain": [
       "(0.9999946, 9)"
      ]
     },
     "execution_count": 57,
     "metadata": {},
     "output_type": "execute_result"
    }
   ],
   "source": [
    "np.max(y_pred[0]),np.argmax(y_pred[0])"
   ]
  },
  {
   "cell_type": "code",
   "execution_count": 37,
   "metadata": {
    "colab": {
     "base_uri": "https://localhost:8080/",
     "height": 472
    },
    "id": "HiS9KW-z2M6c",
    "outputId": "3b7e1f8d-ab86-480c-cefb-f0ad75881581"
   },
   "outputs": [
    {
     "data": {
      "text/plain": [
       "<matplotlib.colorbar.Colorbar at 0x7cad83a92230>"
      ]
     },
     "execution_count": 37,
     "metadata": {},
     "output_type": "execute_result"
    },
    {
     "data": {
      "image/png": "[encoded data removed]",
      "text/plain": [
       "<Figure size 640x480 with 2 Axes>"
      ]
     },
     "metadata": {},
     "output_type": "display_data"
    }
   ],
   "source": [
    "y_pred[0]  # First prediction\n",
    "max_prob=np.max(y_pred[0]) # Predicton wil give probabilites of all classes\n",
    "index=np.argmax(y_pred[0]) # Index of maximum probability\n",
    "prediction_class=class_names[index] # Using index we are getting class name\n",
    "Ground_Truth_class= class_names[y_test[0]] # We also passing orfinal test input value and getting the class\n",
    "\n",
    "plt.figure()\n",
    "plt.imshow(X_test[0])\n",
    "plt.xlabel(Ground_Truth_class)\n",
    "plt.ylabel(prediction_class)\n",
    "plt.colorbar()"
   ]
  },
  {
   "cell_type": "code",
   "execution_count": 38,
   "metadata": {
    "colab": {
     "base_uri": "https://localhost:8080/",
     "height": 0
    },
    "id": "TaoMGPFmK6Al",
    "outputId": "56f506fe-4700-47ca-c82f-baf5f971f7c9"
   },
   "outputs": [
    {
     "data": {
      "text/plain": [
       "0.8827"
      ]
     },
     "execution_count": 38,
     "metadata": {},
     "output_type": "execute_result"
    }
   ],
   "source": [
    "max_prob=[np.max(i)  for i in y_pred]\n",
    "index=[np.argmax(i) for i in y_pred]\n",
    "prediction_class=[class_names[i] for i in index]\n",
    "Ground_Truth_class=[class_names[i] for i in y_test]\n",
    "\n",
    "d1=pd.DataFrame(zip(max_prob,index,prediction_class,Ground_Truth_class),\n",
    "             columns=['Max_proba','Index','Prediction_class','Ground_Truth_class'])\n",
    "con=d1['Prediction_class']==d1['Ground_Truth_class']\n",
    "d1['output']=np.where(con,1,0)\n",
    "accuracy=d1['output'].sum()/len(d1['output'])\n",
    "accuracy"
   ]
  },
  {
   "cell_type": "code",
   "execution_count": 39,
   "metadata": {
    "colab": {
     "base_uri": "https://localhost:8080/",
     "height": 423
    },
    "id": "QjGI85oYL3MA",
    "outputId": "908d153d-d2e4-4e3c-baf7-d09da05caf57"
   },
   "outputs": [
    {
     "data": {
      "application/vnd.google.colaboratory.intrinsic+json": {
       "summary": "{\n  \"name\": \"d1\",\n  \"rows\": 10000,\n  \"fields\": [\n    {\n      \"column\": \"Max_proba\",\n      \"properties\": {\n        \"dtype\": \"float32\",\n        \"num_unique_values\": 7809,\n        \"samples\": [\n          0.9941756725311279,\n          0.9990787506103516,\n          0.9942854046821594\n        ],\n        \"semantic_type\": \"\",\n        \"description\": \"\"\n      }\n    },\n    {\n      \"column\": \"Index\",\n      \"properties\": {\n        \"dtype\": \"number\",\n        \"std\": 2,\n        \"min\": 0,\n        \"max\": 9,\n        \"num_unique_values\": 10,\n        \"samples\": [\n          8,\n          2,\n          5\n        ],\n        \"semantic_type\": \"\",\n        \"description\": \"\"\n      }\n    },\n    {\n      \"column\": \"Prediction_class\",\n      \"properties\": {\n        \"dtype\": \"category\",\n        \"num_unique_values\": 10,\n        \"samples\": [\n          \"bag\",\n          \"pullover\",\n          \"sandal\"\n        ],\n        \"semantic_type\": \"\",\n        \"description\": \"\"\n      }\n    },\n    {\n      \"column\": \"Ground_Truth_class\",\n      \"properties\": {\n        \"dtype\": \"category\",\n        \"num_unique_values\": 10,\n        \"samples\": [\n          \"bag\",\n          \"pullover\",\n          \"sandal\"\n        ],\n        \"semantic_type\": \"\",\n        \"description\": \"\"\n      }\n    },\n    {\n      \"column\": \"output\",\n      \"properties\": {\n        \"dtype\": \"number\",\n        \"std\": 0,\n        \"min\": 0,\n        \"max\": 1,\n        \"num_unique_values\": 2,\n        \"samples\": [\n          0,\n          1\n        ],\n        \"semantic_type\": \"\",\n        \"description\": \"\"\n      }\n    }\n  ]\n}",
       "type": "dataframe",
       "variable_name": "d1"
      },
      "text/html": [
       "\n",
       "  <div id=\"df-c4c78dcd-fbef-4e19-a8e3-721fe898a393\" class=\"colab-df-container\">\n",
       "    <div>\n",
       "<style scoped>\n",
       "    .dataframe tbody tr th:only-of-type {\n",
       "        vertical-align: middle;\n",
       "    }\n",
       "\n",
       "    .dataframe tbody tr th {\n",
       "        vertical-align: top;\n",
       "    }\n",
       "\n",
       "    .dataframe thead th {\n",
       "        text-align: right;\n",
       "    }\n",
       "</style>\n",
       "<table border=\"1\" class=\"dataframe\">\n",
       "  <thead>\n",
       "    <tr style=\"text-align: right;\">\n",
       "      <th></th>\n",
       "      <th>Max_proba</th>\n",
       "      <th>Index</th>\n",
       "      <th>Prediction_class</th>\n",
       "      <th>Ground_Truth_class</th>\n",
       "      <th>output</th>\n",
       "    </tr>\n",
       "  </thead>\n",
       "  <tbody>\n",
       "    <tr>\n",
       "      <th>0</th>\n",
       "      <td>0.984247</td>\n",
       "      <td>9</td>\n",
       "      <td>ankle boot</td>\n",
       "      <td>ankle boot</td>\n",
       "      <td>1</td>\n",
       "    </tr>\n",
       "    <tr>\n",
       "      <th>1</th>\n",
       "      <td>0.994871</td>\n",
       "      <td>2</td>\n",
       "      <td>pullover</td>\n",
       "      <td>pullover</td>\n",
       "      <td>1</td>\n",
       "    </tr>\n",
       "    <tr>\n",
       "      <th>2</th>\n",
       "      <td>1.000000</td>\n",
       "      <td>1</td>\n",
       "      <td>trouser</td>\n",
       "      <td>trouser</td>\n",
       "      <td>1</td>\n",
       "    </tr>\n",
       "    <tr>\n",
       "      <th>3</th>\n",
       "      <td>0.999998</td>\n",
       "      <td>1</td>\n",
       "      <td>trouser</td>\n",
       "      <td>trouser</td>\n",
       "      <td>1</td>\n",
       "    </tr>\n",
       "    <tr>\n",
       "      <th>4</th>\n",
       "      <td>0.854889</td>\n",
       "      <td>6</td>\n",
       "      <td>shirt</td>\n",
       "      <td>shirt</td>\n",
       "      <td>1</td>\n",
       "    </tr>\n",
       "    <tr>\n",
       "      <th>...</th>\n",
       "      <td>...</td>\n",
       "      <td>...</td>\n",
       "      <td>...</td>\n",
       "      <td>...</td>\n",
       "      <td>...</td>\n",
       "    </tr>\n",
       "    <tr>\n",
       "      <th>9995</th>\n",
       "      <td>0.999993</td>\n",
       "      <td>9</td>\n",
       "      <td>ankle boot</td>\n",
       "      <td>ankle boot</td>\n",
       "      <td>1</td>\n",
       "    </tr>\n",
       "    <tr>\n",
       "      <th>9996</th>\n",
       "      <td>0.999979</td>\n",
       "      <td>1</td>\n",
       "      <td>trouser</td>\n",
       "      <td>trouser</td>\n",
       "      <td>1</td>\n",
       "    </tr>\n",
       "    <tr>\n",
       "      <th>9997</th>\n",
       "      <td>0.999715</td>\n",
       "      <td>8</td>\n",
       "      <td>bag</td>\n",
       "      <td>bag</td>\n",
       "      <td>1</td>\n",
       "    </tr>\n",
       "    <tr>\n",
       "      <th>9998</th>\n",
       "      <td>0.999994</td>\n",
       "      <td>1</td>\n",
       "      <td>trouser</td>\n",
       "      <td>trouser</td>\n",
       "      <td>1</td>\n",
       "    </tr>\n",
       "    <tr>\n",
       "      <th>9999</th>\n",
       "      <td>0.999461</td>\n",
       "      <td>5</td>\n",
       "      <td>sandal</td>\n",
       "      <td>sandal</td>\n",
       "      <td>1</td>\n",
       "    </tr>\n",
       "  </tbody>\n",
       "</table>\n",
       "<p>10000 rows × 5 columns</p>\n",
       "</div>\n",
       "    <div class=\"colab-df-buttons\">\n",
       "\n",
       "  <div class=\"colab-df-container\">\n",
       "    <button class=\"colab-df-convert\" onclick=\"convertToInteractive('df-c4c78dcd-fbef-4e19-a8e3-721fe898a393')\"\n",
       "            title=\"Convert this dataframe to an interactive table.\"\n",
       "            style=\"display:none;\">\n",
       "\n",
       "  <svg xmlns=\"http://www.w3.org/2000/svg\" height=\"24px\" viewBox=\"0 -960 960 960\">\n",
       "    <path d=\"M120-120v-720h720v720H120Zm60-500h600v-160H180v160Zm220 220h160v-160H400v160Zm0 220h160v-160H400v160ZM180-400h160v-160H180v160Zm440 0h160v-160H620v160ZM180-180h160v-160H180v160Zm440 0h160v-160H620v160Z\"/>\n",
       "  </svg>\n",
       "    </button>\n",
       "\n",
       "  <style>\n",
       "    .colab-df-container {\n",
       "      display:flex;\n",
       "      gap: 12px;\n",
       "    }\n",
       "\n",
       "    .colab-df-convert {\n",
       "      background-color: #E8F0FE;\n",
       "      border: none;\n",
       "      border-radius: 50%;\n",
       "      cursor: pointer;\n",
       "      display: none;\n",
       "      fill: #1967D2;\n",
       "      height: 32px;\n",
       "      padding: 0 0 0 0;\n",
       "      width: 32px;\n",
       "    }\n",
       "\n",
       "    .colab-df-convert:hover {\n",
       "      background-color: #E2EBFA;\n",
       "      box-shadow: 0px 1px 2px rgba(60, 64, 67, 0.3), 0px 1px 3px 1px rgba(60, 64, 67, 0.15);\n",
       "      fill: #174EA6;\n",
       "    }\n",
       "\n",
       "    .colab-df-buttons div {\n",
       "      margin-bottom: 4px;\n",
       "    }\n",
       "\n",
       "    [theme=dark] .colab-df-convert {\n",
       "      background-color: #3B4455;\n",
       "      fill: #D2E3FC;\n",
       "    }\n",
       "\n",
       "    [theme=dark] .colab-df-convert:hover {\n",
       "      background-color: #434B5C;\n",
       "      box-shadow: 0px 1px 3px 1px rgba(0, 0, 0, 0.15);\n",
       "      filter: drop-shadow(0px 1px 2px rgba(0, 0, 0, 0.3));\n",
       "      fill: #FFFFFF;\n",
       "    }\n",
       "  </style>\n",
       "\n",
       "    <script>\n",
       "      const buttonEl =\n",
       "        document.querySelector('#df-c4c78dcd-fbef-4e19-a8e3-721fe898a393 button.colab-df-convert');\n",
       "      buttonEl.style.display =\n",
       "        google.colab.kernel.accessAllowed ? 'block' : 'none';\n",
       "\n",
       "      async function convertToInteractive(key) {\n",
       "        const element = document.querySelector('#df-c4c78dcd-fbef-4e19-a8e3-721fe898a393');\n",
       "        const dataTable =\n",
       "          await google.colab.kernel.invokeFunction('convertToInteractive',\n",
       "                                                    [key], {});\n",
       "        if (!dataTable) return;\n",
       "\n",
       "        const docLinkHtml = 'Like what you see? Visit the ' +\n",
       "          '<a target=\"_blank\" href=https://colab.research.google.com/notebooks/data_table.ipynb>data table notebook</a>'\n",
       "          + ' to learn more about interactive tables.';\n",
       "        element.innerHTML = '';\n",
       "        dataTable['output_type'] = 'display_data';\n",
       "        await google.colab.output.renderOutput(dataTable, element);\n",
       "        const docLink = document.createElement('div');\n",
       "        docLink.innerHTML = docLinkHtml;\n",
       "        element.appendChild(docLink);\n",
       "      }\n",
       "    </script>\n",
       "  </div>\n",
       "\n",
       "\n",
       "<div id=\"df-b0998592-6587-41e5-95c3-3516b31dc970\">\n",
       "  <button class=\"colab-df-quickchart\" onclick=\"quickchart('df-b0998592-6587-41e5-95c3-3516b31dc970')\"\n",
       "            title=\"Suggest charts\"\n",
       "            style=\"display:none;\">\n",
       "\n",
       "<svg xmlns=\"http://www.w3.org/2000/svg\" height=\"24px\"viewBox=\"0 0 24 24\"\n",
       "     width=\"24px\">\n",
       "    <g>\n",
       "        <path d=\"M19 3H5c-1.1 0-2 .9-2 2v14c0 1.1.9 2 2 2h14c1.1 0 2-.9 2-2V5c0-1.1-.9-2-2-2zM9 17H7v-7h2v7zm4 0h-2V7h2v10zm4 0h-2v-4h2v4z\"/>\n",
       "    </g>\n",
       "</svg>\n",
       "  </button>\n",
       "\n",
       "<style>\n",
       "  .colab-df-quickchart {\n",
       "      --bg-color: #E8F0FE;\n",
       "      --fill-color: #1967D2;\n",
       "      --hover-bg-color: #E2EBFA;\n",
       "      --hover-fill-color: #174EA6;\n",
       "      --disabled-fill-color: #AAA;\n",
       "      --disabled-bg-color: #DDD;\n",
       "  }\n",
       "\n",
       "  [theme=dark] .colab-df-quickchart {\n",
       "      --bg-color: #3B4455;\n",
       "      --fill-color: #D2E3FC;\n",
       "      --hover-bg-color: #434B5C;\n",
       "      --hover-fill-color: #FFFFFF;\n",
       "      --disabled-bg-color: #3B4455;\n",
       "      --disabled-fill-color: #666;\n",
       "  }\n",
       "\n",
       "  .colab-df-quickchart {\n",
       "    background-color: var(--bg-color);\n",
       "    border: none;\n",
       "    border-radius: 50%;\n",
       "    cursor: pointer;\n",
       "    display: none;\n",
       "    fill: var(--fill-color);\n",
       "    height: 32px;\n",
       "    padding: 0;\n",
       "    width: 32px;\n",
       "  }\n",
       "\n",
       "  .colab-df-quickchart:hover {\n",
       "    background-color: var(--hover-bg-color);\n",
       "    box-shadow: 0 1px 2px rgba(60, 64, 67, 0.3), 0 1px 3px 1px rgba(60, 64, 67, 0.15);\n",
       "    fill: var(--button-hover-fill-color);\n",
       "  }\n",
       "\n",
       "  .colab-df-quickchart-complete:disabled,\n",
       "  .colab-df-quickchart-complete:disabled:hover {\n",
       "    background-color: var(--disabled-bg-color);\n",
       "    fill: var(--disabled-fill-color);\n",
       "    box-shadow: none;\n",
       "  }\n",
       "\n",
       "  .colab-df-spinner {\n",
       "    border: 2px solid var(--fill-color);\n",
       "    border-color: transparent;\n",
       "    border-bottom-color: var(--fill-color);\n",
       "    animation:\n",
       "      spin 1s steps(1) infinite;\n",
       "  }\n",
       "\n",
       "  @keyframes spin {\n",
       "    0% {\n",
       "      border-color: transparent;\n",
       "      border-bottom-color: var(--fill-color);\n",
       "      border-left-color: var(--fill-color);\n",
       "    }\n",
       "    20% {\n",
       "      border-color: transparent;\n",
       "      border-left-color: var(--fill-color);\n",
       "      border-top-color: var(--fill-color);\n",
       "    }\n",
       "    30% {\n",
       "      border-color: transparent;\n",
       "      border-left-color: var(--fill-color);\n",
       "      border-top-color: var(--fill-color);\n",
       "      border-right-color: var(--fill-color);\n",
       "    }\n",
       "    40% {\n",
       "      border-color: transparent;\n",
       "      border-right-color: var(--fill-color);\n",
       "      border-top-color: var(--fill-color);\n",
       "    }\n",
       "    60% {\n",
       "      border-color: transparent;\n",
       "      border-right-color: var(--fill-color);\n",
       "    }\n",
       "    80% {\n",
       "      border-color: transparent;\n",
       "      border-right-color: var(--fill-color);\n",
       "      border-bottom-color: var(--fill-color);\n",
       "    }\n",
       "    90% {\n",
       "      border-color: transparent;\n",
       "      border-bottom-color: var(--fill-color);\n",
       "    }\n",
       "  }\n",
       "</style>\n",
       "\n",
       "  <script>\n",
       "    async function quickchart(key) {\n",
       "      const quickchartButtonEl =\n",
       "        document.querySelector('#' + key + ' button');\n",
       "      quickchartButtonEl.disabled = true;  // To prevent multiple clicks.\n",
       "      quickchartButtonEl.classList.add('colab-df-spinner');\n",
       "      try {\n",
       "        const charts = await google.colab.kernel.invokeFunction(\n",
       "            'suggestCharts', [key], {});\n",
       "      } catch (error) {\n",
       "        console.error('Error during call to suggestCharts:', error);\n",
       "      }\n",
       "      quickchartButtonEl.classList.remove('colab-df-spinner');\n",
       "      quickchartButtonEl.classList.add('colab-df-quickchart-complete');\n",
       "    }\n",
       "    (() => {\n",
       "      let quickchartButtonEl =\n",
       "        document.querySelector('#df-b0998592-6587-41e5-95c3-3516b31dc970 button');\n",
       "      quickchartButtonEl.style.display =\n",
       "        google.colab.kernel.accessAllowed ? 'block' : 'none';\n",
       "    })();\n",
       "  </script>\n",
       "</div>\n",
       "\n",
       "  <div id=\"id_4bcb36e6-c614-4969-8308-557a942a941a\">\n",
       "    <style>\n",
       "      .colab-df-generate {\n",
       "        background-color: #E8F0FE;\n",
       "        border: none;\n",
       "        border-radius: 50%;\n",
       "        cursor: pointer;\n",
       "        display: none;\n",
       "        fill: #1967D2;\n",
       "        height: 32px;\n",
       "        padding: 0 0 0 0;\n",
       "        width: 32px;\n",
       "      }\n",
       "\n",
       "      .colab-df-generate:hover {\n",
       "        background-color: #E2EBFA;\n",
       "        box-shadow: 0px 1px 2px rgba(60, 64, 67, 0.3), 0px 1px 3px 1px rgba(60, 64, 67, 0.15);\n",
       "        fill: #174EA6;\n",
       "      }\n",
       "\n",
       "      [theme=dark] .colab-df-generate {\n",
       "        background-color: #3B4455;\n",
       "        fill: #D2E3FC;\n",
       "      }\n",
       "\n",
       "      [theme=dark] .colab-df-generate:hover {\n",
       "        background-color: #434B5C;\n",
       "        box-shadow: 0px 1px 3px 1px rgba(0, 0, 0, 0.15);\n",
       "        filter: drop-shadow(0px 1px 2px rgba(0, 0, 0, 0.3));\n",
       "        fill: #FFFFFF;\n",
       "      }\n",
       "    </style>\n",
       "    <button class=\"colab-df-generate\" onclick=\"generateWithVariable('d1')\"\n",
       "            title=\"Generate code using this dataframe.\"\n",
       "            style=\"display:none;\">\n",
       "\n",
       "  <svg xmlns=\"http://www.w3.org/2000/svg\" height=\"24px\"viewBox=\"0 0 24 24\"\n",
       "       width=\"24px\">\n",
       "    <path d=\"M7,19H8.4L18.45,9,17,7.55,7,17.6ZM5,21V16.75L18.45,3.32a2,2,0,0,1,2.83,0l1.4,1.43a1.91,1.91,0,0,1,.58,1.4,1.91,1.91,0,0,1-.58,1.4L9.25,21ZM18.45,9,17,7.55Zm-12,3A5.31,5.31,0,0,0,4.9,8.1,5.31,5.31,0,0,0,1,6.5,5.31,5.31,0,0,0,4.9,4.9,5.31,5.31,0,0,0,6.5,1,5.31,5.31,0,0,0,8.1,4.9,5.31,5.31,0,0,0,12,6.5,5.46,5.46,0,0,0,6.5,12Z\"/>\n",
       "  </svg>\n",
       "    </button>\n",
       "    <script>\n",
       "      (() => {\n",
       "      const buttonEl =\n",
       "        document.querySelector('#id_4bcb36e6-c614-4969-8308-557a942a941a button.colab-df-generate');\n",
       "      buttonEl.style.display =\n",
       "        google.colab.kernel.accessAllowed ? 'block' : 'none';\n",
       "\n",
       "      buttonEl.onclick = () => {\n",
       "        google.colab.notebook.generateWithVariable('d1');\n",
       "      }\n",
       "      })();\n",
       "    </script>\n",
       "  </div>\n",
       "\n",
       "    </div>\n",
       "  </div>\n"
      ],
      "text/plain": [
       "      Max_proba  Index Prediction_class Ground_Truth_class  output\n",
       "0      0.984247      9       ankle boot         ankle boot       1\n",
       "1      0.994871      2         pullover           pullover       1\n",
       "2      1.000000      1          trouser            trouser       1\n",
       "3      0.999998      1          trouser            trouser       1\n",
       "4      0.854889      6            shirt              shirt       1\n",
       "...         ...    ...              ...                ...     ...\n",
       "9995   0.999993      9       ankle boot         ankle boot       1\n",
       "9996   0.999979      1          trouser            trouser       1\n",
       "9997   0.999715      8              bag                bag       1\n",
       "9998   0.999994      1          trouser            trouser       1\n",
       "9999   0.999461      5           sandal             sandal       1\n",
       "\n",
       "[10000 rows x 5 columns]"
      ]
     },
     "execution_count": 39,
     "metadata": {},
     "output_type": "execute_result"
    }
   ],
   "source": [
    "d1"
   ]
  },
  {
   "cell_type": "code",
   "execution_count": 40,
   "metadata": {
    "colab": {
     "base_uri": "https://localhost:8080/",
     "height": 466
    },
    "id": "cJ7ng2CD2ff7",
    "outputId": "6a8aee26-f286-45aa-f365-ca957dd3d9b5"
   },
   "outputs": [
    {
     "data": {
      "text/plain": [
       "<matplotlib.colorbar.Colorbar at 0x7cad83cdc910>"
      ]
     },
     "execution_count": 40,
     "metadata": {},
     "output_type": "execute_result"
    },
    {
     "data": {
      "image/png": "[encoded data removed]",
      "text/plain": [
       "<Figure size 640x480 with 2 Axes>"
      ]
     },
     "metadata": {},
     "output_type": "display_data"
    }
   ],
   "source": [
    "y_pred[4]  # First prediction\n",
    "max_prob=np.max(y_pred[4]) # Predicton wil give probabilites of all classes\n",
    "index=np.argmax(y_pred[4]) # Index of maximum probability\n",
    "prediction_class=class_names[index] # Using index we are getting class name\n",
    "Ground_Truth_class= class_names[y_test[4]] # We also passing orfinal test input value and getting the class\n",
    "\n",
    "plt.figure()\n",
    "plt.imshow(X_test[4])\n",
    "plt.xlabel(Ground_Truth_class)\n",
    "plt.ylabel(prediction_class)\n",
    "plt.colorbar()"
   ]
  },
  {
   "cell_type": "code",
   "execution_count": 41,
   "metadata": {
    "colab": {
     "base_uri": "https://localhost:8080/",
     "height": 826
    },
    "id": "_v9WIg73L3J5",
    "outputId": "da95200e-398e-4585-ed54-69ea4ca373a7"
   },
   "outputs": [
    {
     "data": {
      "image/png": "[encoded data removed]",
      "text/plain": [
       "<Figure size 1000x1000 with 25 Axes>"
      ]
     },
     "metadata": {},
     "output_type": "display_data"
    }
   ],
   "source": [
    "plt.figure(figsize=(10,10))\n",
    "for i in range(25):\n",
    "    plt.subplot(5,5,i+1)\n",
    "    plt.xticks([])\n",
    "    plt.yticks([])\n",
    "    plt.grid(False)\n",
    "    plt.imshow(X_test[i])\n",
    "    plt.xlabel(f'prediction:{class_names[np.argmax(y_pred[i])]}')\n",
    "    plt.ylabel(f'gt:{class_names[y_test[i]]}')\n",
    "plt.show()"
   ]
  },
  {
   "cell_type": "markdown",
   "metadata": {
    "id": "-Tgmam6s_t_V"
   },
   "source": [
    "- Model creation\n",
    "\n",
    "           - sequential\n",
    "           - add\n",
    "           - dense\n",
    "\n",
    "\n",
    "- Model compile\n",
    "\n",
    "          - optimizer\n",
    "\n",
    "          - loss (cross entropy)\n",
    "\n",
    "          - metrics (accuracy)\n",
    "\n",
    "- Model fit\n",
    "\n",
    "          - X_train\n",
    "\n",
    "          - y_train\n",
    "\n",
    "          - epochs\n",
    "\n",
    "          - batch size\n",
    "\n",
    "- Model evaluation\n",
    "\n",
    "          - On the test data what are the metrics and loss that\n",
    "\n",
    "          - X_test\n",
    "\n",
    "          - y_test\n",
    "\n",
    "- Model predictions\n",
    "\n",
    "          - X_test\n",
    "\n",
    "          - probability values it is providing"
   ]
  },
  {
   "cell_type": "markdown",
   "metadata": {
    "id": "-U7_759BAlC_"
   },
   "source": [
    "**Fine tuning**\n",
    "\n",
    "- By increasing Hidden layers\n",
    "\n",
    "- By increasing Neurons\n",
    "\n",
    "- By chnaging optimizer\n",
    "\n",
    "- By changing Epochs\n",
    "\n",
    "- By adding drop out technqiue"
   ]
  },
  {
   "cell_type": "markdown",
   "metadata": {
    "id": "c7hXEyIm40vM"
   },
   "source": [
    "## Save the model"
   ]
  },
  {
   "cell_type": "code",
   "execution_count": 49,
   "metadata": {
    "colab": {
     "base_uri": "https://localhost:8080/",
     "height": 0
    },
    "id": "DDg5yZWx4C5f",
    "outputId": "46b48cb4-a8ff-4eee-ac8f-9473126e602e"
   },
   "outputs": [
    {
     "data": {
      "text/plain": [
       "10"
      ]
     },
     "execution_count": 49,
     "metadata": {},
     "output_type": "execute_result"
    }
   ],
   "source": [
    "len(model.weights[3].numpy())"
   ]
  },
  {
   "cell_type": "code",
   "execution_count": 50,
   "metadata": {
    "id": "ENnf130o4Bdy"
   },
   "outputs": [],
   "source": [
    "\n",
    "model.save_weights('./checkpoints/my_checkpoint')\n",
    "# created a directory name checkpoints\n",
    "# in side I created one more folder name my_checkpoint\n",
    "# I saved my model weights here"
   ]
  },
  {
   "cell_type": "code",
   "execution_count": 52,
   "metadata": {
    "colab": {
     "base_uri": "https://localhost:8080/",
     "height": 0
    },
    "id": "3EzwiIDvAb9y",
    "outputId": "2dec9db2-5415-4ce2-e9a6-3c8dc97e1d1a"
   },
   "outputs": [
    {
     "data": {
      "text/plain": [
       "<tensorflow.python.checkpoint.checkpoint.CheckpointLoadStatus at 0x7cad83c66410>"
      ]
     },
     "execution_count": 52,
     "metadata": {},
     "output_type": "execute_result"
    }
   ],
   "source": [
    "# Restore the weights\n",
    "model.load_weights('./checkpoints/my_checkpoint')\n"
   ]
  },
  {
   "cell_type": "code",
   "execution_count": 54,
   "metadata": {
    "colab": {
     "base_uri": "https://localhost:8080/",
     "height": 0
    },
    "id": "trT3Pqve4bws",
    "outputId": "d6eff0a9-5088-40f6-efe2-ee5f6e2aecc2"
   },
   "outputs": [
    {
     "name": "stdout",
     "output_type": "stream",
     "text": [
      "313/313 [==============================] - 2s 5ms/step\n"
     ]
    },
    {
     "data": {
      "text/plain": [
       "array([[3.6421750e-07, 8.4304908e-08, 1.2469633e-07, ..., 5.0180429e-03,\n",
       "        6.5997011e-07, 9.8424685e-01],\n",
       "       [1.1249082e-05, 1.5963834e-11, 9.9487054e-01, ..., 2.8321015e-15,\n",
       "        4.2949591e-09, 8.5014108e-14],\n",
       "       [1.3733759e-08, 9.9999994e-01, 7.0525530e-12, ..., 3.3752905e-20,\n",
       "        3.3480094e-12, 1.0548861e-14],\n",
       "       ...,\n",
       "       [8.9459885e-05, 9.8593543e-11, 5.1563427e-05, ..., 2.7585252e-09,\n",
       "        9.9971473e-01, 1.3601699e-09],\n",
       "       [4.3912736e-09, 9.9999434e-01, 4.0503081e-10, ..., 1.8074492e-16,\n",
       "        3.1057992e-10, 5.8636498e-11],\n",
       "       [1.1598658e-05, 2.3615415e-08, 1.2703646e-05, ..., 3.2724382e-04,\n",
       "        6.0425409e-05, 1.0841404e-06]], dtype=float32)"
      ]
     },
     "execution_count": 54,
     "metadata": {},
     "output_type": "execute_result"
    }
   ],
   "source": [
    "# apply the prediction\n",
    "y_pred = model.predict(X_test)\n",
    "y_pred"
   ]
  },
  {
   "cell_type": "code",
   "execution_count": null,
   "metadata": {
    "id": "DBsqi2XE4m_8"
   },
   "outputs": [],
   "source": []
  }
 ],
 "metadata": {
  "colab": {
   "provenance": []
  },
  "kernelspec": {
   "display_name": "Python 3 (ipykernel)",
   "language": "python",
   "name": "python3"
  },
  "language_info": {
   "codemirror_mode": {
    "name": "ipython",
    "version": 3
   },
   "file_extension": ".py",
   "mimetype": "text/x-python",
   "name": "python",
   "nbconvert_exporter": "python",
   "pygments_lexer": "ipython3",
   "version": "3.11.5"
  }
 },
 "nbformat": 4,
 "nbformat_minor": 4
}
